{
 "cells": [
  {
   "cell_type": "markdown",
   "metadata": {},
   "source": [
    "   <h3 style = \"color : Greay\">\n",
    "<Br> Name  - Ritu Prajapati\n",
    "<Br> Batch - 22 Dec 2024\n",
    "<Br> Email - rituprajapatti0507@gmail.com"
   ]
  },
  {
   "cell_type": "markdown",
   "metadata": {},
   "source": [
    "   <h3 style = \"color : Blue\">\n",
    "<Br>Boolean Assignment"
   ]
  },
  {
   "cell_type": "markdown",
   "metadata": {},
   "source": [
    "    Q. Declare a boolean value and store it in a variable. Check the type and print the id of the same."
   ]
  },
  {
   "cell_type": "code",
   "execution_count": 10,
   "metadata": {
    "ExecuteTime": {
     "end_time": "2022-09-10T20:57:26.983264Z",
     "start_time": "2022-09-10T20:57:26.961327Z"
    }
   },
   "outputs": [
    {
     "name": "stdout",
     "output_type": "stream",
     "text": [
      "<class 'bool'> 140728039398160\n"
     ]
    }
   ],
   "source": [
    "True\n",
    "a = True\n",
    "print(type(a),id(a))"
   ]
  },
  {
   "cell_type": "markdown",
   "metadata": {},
   "source": [
    "    Q. Take one boolean value between 0 - 256.\n",
    "    Assign it to two different variables.\n",
    "    Check the id of both the variables. It should come the same. Check why?"
   ]
  },
  {
   "cell_type": "code",
   "execution_count": 11,
   "metadata": {
    "ExecuteTime": {
     "end_time": "2022-09-10T20:57:27.687589Z",
     "start_time": "2022-09-10T20:57:27.673586Z"
    }
   },
   "outputs": [
    {
     "name": "stdout",
     "output_type": "stream",
     "text": [
      "140728040532408 140728040532408\n"
     ]
    }
   ],
   "source": [
    "1\n",
    "a = 1\n",
    "b = 1\n",
    "print(id(a),id(b))\n",
    "# They are calling the same object using object reference "
   ]
  },
  {
   "cell_type": "markdown",
   "metadata": {},
   "source": [
    "     Q. Arithmetic Operations on boolean data\n",
    "     Take two different boolean values.\n",
    "     Store them in two different variables.\n",
    "     Do below operations on them:-\n",
    "     Find sum of both values\n",
    "     Find difference between them\n",
    "     Find the product of both.\n",
    "     Find value after dividing first value with second value\n",
    "     Find the remainder after dividing first value with second value\n",
    "     Find the quotient after dividing first value with second value\n",
    "     Find the result of first value to the power of second value.\n",
    "\n"
   ]
  },
  {
   "cell_type": "code",
   "execution_count": 12,
   "metadata": {
    "ExecuteTime": {
     "end_time": "2022-09-10T20:57:28.247651Z",
     "start_time": "2022-09-10T20:57:28.233693Z"
    }
   },
   "outputs": [
    {
     "name": "stdout",
     "output_type": "stream",
     "text": [
      "1 -1 0 0.0 0 0 0\n"
     ]
    }
   ],
   "source": [
    "True , False\n",
    "a = False\n",
    "b = True\n",
    "Sum = a + b\n",
    "Difference = a - b \n",
    "Product = a * b \n",
    "Division = a / b \n",
    "Remainder = a % b\n",
    "Quotient = a // b \n",
    "Power = a ** b\n",
    "print(Sum, Difference,  Product, Division, Remainder, Quotient , Power)"
   ]
  },
  {
   "cell_type": "markdown",
   "metadata": {},
   "source": [
    "    Q. Comparison Operators on boolean values\n",
    "    Take two different boolean values.\n",
    "    Store them in two different variables.\n",
    "    Do below operations on them:-\n",
    "     Compare these two values with below operator:-\n",
    "     Greater than, '>'\n",
    "     less than, '<'\n",
    "     Greater than or equal to, '>='\n",
    "     Less than or equal to, '<='\n",
    "    Observe their output(return type should be boolean)\n"
   ]
  },
  {
   "cell_type": "code",
   "execution_count": 13,
   "metadata": {
    "ExecuteTime": {
     "end_time": "2022-09-10T20:57:28.728367Z",
     "start_time": "2022-09-10T20:57:28.705428Z"
    }
   },
   "outputs": [
    {
     "name": "stdout",
     "output_type": "stream",
     "text": [
      "True\n",
      "False\n",
      "True\n",
      "False\n"
     ]
    }
   ],
   "source": [
    "True , False\n",
    "a = True\n",
    "b = False\n",
    "print(a > b)\n",
    "print(a < b)\n",
    "print(a >= b)\n",
    "print(a <= b)\n"
   ]
  },
  {
   "cell_type": "markdown",
   "metadata": {},
   "source": [
    "    Q. Equality Operator\n",
    "    Take two different boolean values.\n",
    "    Store them in two different variables.\n",
    "    Equate them using equality operators (==, !=)\n",
    "    Observe the output(return type should be boolean)"
   ]
  },
  {
   "cell_type": "code",
   "execution_count": 14,
   "metadata": {
    "ExecuteTime": {
     "end_time": "2022-09-10T20:57:29.265228Z",
     "start_time": "2022-09-10T20:57:29.243287Z"
    }
   },
   "outputs": [
    {
     "name": "stdout",
     "output_type": "stream",
     "text": [
      "False\n",
      "True\n"
     ]
    }
   ],
   "source": [
    "True , False\n",
    "a = True\n",
    "b = False\n",
    "print(a == b)\n",
    "print(a != b)\n",
    "\n"
   ]
  },
  {
   "cell_type": "markdown",
   "metadata": {},
   "source": [
    "\n",
    "\n",
    "    Q.Logical operators\n",
    "    Observe the output of below code\n",
    "    Cross check the output manually\n",
    "    print(True and True)\n",
    "    #----------------------------------------->Output is Trueprint(False and True)\n",
    "    #----------------------------------------->Output is False\n",
    "    print(True and False)\n",
    "    #----------------------------------------->Output is False\n",
    "    print(False and False)\n",
    "    #----------------------------------------->Output is False\n",
    "    print(True or True)\n",
    "    #----------------------------------------->Output is True\n",
    "    print(False or True)\n",
    "    #----------------------------------------->Output is True\n",
    "    print(True or False)\n",
    "    #----------------------------------------->Output is True\n",
    "    print(False or False)\n",
    "    #----------------------------------------->Output is False\n",
    "    print(not True)\n",
    "    #----------------------------------------->Output is False\n",
    "    print(not False)\n",
    "    #----------------------------------------->Output is True"
   ]
  },
  {
   "cell_type": "code",
   "execution_count": 15,
   "metadata": {
    "ExecuteTime": {
     "end_time": "2022-09-10T20:57:29.717021Z",
     "start_time": "2022-09-10T20:57:29.697072Z"
    }
   },
   "outputs": [
    {
     "name": "stdout",
     "output_type": "stream",
     "text": [
      "True\n",
      "False\n",
      "False\n",
      "False\n",
      "True\n",
      "True\n",
      "True\n",
      "False\n",
      "False\n",
      "True\n"
     ]
    }
   ],
   "source": [
    "print(True and True)\n",
    "print(False and True)\n",
    "print(True and False)\n",
    "print(False and False)\n",
    "print(True or True)\n",
    "print(False or True)\n",
    "print(True or False)\n",
    "print(False or False)\n",
    "print(not True)\n",
    "print(not False)"
   ]
  },
  {
   "cell_type": "markdown",
   "metadata": {},
   "source": [
    "    Q. Bitwise Operators\n",
    "    Do below operations on the values provided below:-\n",
    "     Bitwise and(&) --------------> True, True -------> Output is True\n",
    "     Bitwise or(|) --------------> True, False -------> Output is True\n",
    "     Bitwise(^) --------------> True, False -------> Output is True\n",
    "     Bitwise negation(~) ---------> True -------> Output is -2\n",
    "     Bitwise left shift ---------> True,2 -------> Output is 4\n",
    "     Bitwise right shift ---------> True,2 -------> Output is 0\n",
    "    Cross check the output manually\n"
   ]
  },
  {
   "cell_type": "code",
   "execution_count": 16,
   "metadata": {
    "ExecuteTime": {
     "end_time": "2022-09-10T20:57:30.107975Z",
     "start_time": "2022-09-10T20:57:30.091022Z"
    }
   },
   "outputs": [
    {
     "name": "stdout",
     "output_type": "stream",
     "text": [
      "True\n",
      "True\n",
      "True\n",
      "-2\n",
      "4\n",
      "0\n"
     ]
    }
   ],
   "source": [
    "print(True & True)\n",
    "print(True | False)\n",
    "print(True ^ False )\n",
    "print(~True)\n",
    "print(True << 2)\n",
    "print(True >> 2)"
   ]
  },
  {
   "cell_type": "markdown",
   "metadata": {},
   "source": [
    "    Q. What is the output of expression inside the print statement. Cross\n",
    "    check before running the program.\n",
    "    a = True\n",
    "    b = True\n",
    "    print(a is b) #True or False? #print(a is not b) #True or False?\n",
    "    a = False\n",
    "    b = False\n",
    "    print(a is b) #True or False?\n",
    "    print(a is not b) #True or False?\n"
   ]
  },
  {
   "cell_type": "code",
   "execution_count": 17,
   "metadata": {
    "ExecuteTime": {
     "end_time": "2022-09-10T20:57:30.448065Z",
     "start_time": "2022-09-10T20:57:30.434104Z"
    }
   },
   "outputs": [
    {
     "name": "stdout",
     "output_type": "stream",
     "text": [
      "True\n",
      "False\n",
      "True\n",
      "False\n"
     ]
    }
   ],
   "source": [
    "a = True\n",
    "b = True\n",
    "print(a is b)\n",
    "print(a is not b)\n",
    "a = False\n",
    "b = False\n",
    "print(a is b) \n",
    "print(a is not b)"
   ]
  },
  {
   "cell_type": "markdown",
   "metadata": {},
   "source": [
    "    Q. Membership operation\n",
    "    in, not in are two membership operators and it returns boolean value\n",
    "    print(True in [10,10.20,10+20j,'Python', True])\n",
    "    print(False in (10,10.20,10+20j,'Python', False))\n",
    "    print(True in {1,2,3, True})\n",
    "    print(True in {True:100, False:200, True:300})\n",
    "    print(False in {True:100, False:200, True:300})"
   ]
  },
  {
   "cell_type": "code",
   "execution_count": 18,
   "metadata": {
    "ExecuteTime": {
     "end_time": "2022-09-10T20:57:30.985054Z",
     "start_time": "2022-09-10T20:57:30.970090Z"
    }
   },
   "outputs": [
    {
     "name": "stdout",
     "output_type": "stream",
     "text": [
      "True\n",
      "True\n",
      "True\n",
      "True\n",
      "True\n"
     ]
    }
   ],
   "source": [
    "print(True in [10,10.20,10+20j,'Python', True])\n",
    "print(False in (10,10.20,10+20j,'Python', False))\n",
    "print(True in {1,2,3, True})\n",
    "print(True in {True:100, False:200, True:300})\n",
    "print(False in {True:100, False:200, True:300})"
   ]
  }
 ],
 "metadata": {
  "kernelspec": {
   "display_name": "pyspark-env",
   "language": "python",
   "name": "python3"
  },
  "language_info": {
   "codemirror_mode": {
    "name": "ipython",
    "version": 3
   },
   "file_extension": ".py",
   "mimetype": "text/x-python",
   "name": "python",
   "nbconvert_exporter": "python",
   "pygments_lexer": "ipython3",
   "version": "3.12.3"
  }
 },
 "nbformat": 4,
 "nbformat_minor": 2
}

{
 "cells": [
  {
   "cell_type": "markdown",
   "metadata": {},
   "source": [
    "   <h3 style = \"color : Greay\">\n",
    "<Br> Name  - Ritu Prajapati\n",
    "<Br> Batch - 22 Dec 2024\n",
    "<Br> Email - rituprajapatti0507@gmail.com"
   ]
  },
  {
   "cell_type": "markdown",
   "metadata": {},
   "source": [
    "## Complex Assignment"
   ]
  },
  {
   "cell_type": "markdown",
   "metadata": {},
   "source": [
    "    Q. Declare a complex number and store it in a variable.\n",
    "    Check the type and print the id of the same."
   ]
  },
  {
   "cell_type": "code",
   "execution_count": 4,
   "metadata": {},
   "outputs": [
    {
     "name": "stdout",
     "output_type": "stream",
     "text": [
      "<class 'complex'> 1599128057680\n"
     ]
    }
   ],
   "source": [
    "10 + 2j\n",
    "a = 10 + 2j \n",
    "print(type(a),id(a))"
   ]
  },
  {
   "cell_type": "markdown",
   "metadata": {},
   "source": [
    "     Q. Arithmetic Operations on complex number\n",
    "     Take two different complex numbers.\n",
    "     Store them in two different variables.\n",
    "     Do below operations on them:-\n",
    "     Find sum of both numbers\n",
    "     Find difference between them\n",
    "     Find the product of both numbers.\n",
    "     Find value after dividing first num with second number\n",
    "     Find the result of the first num to the power of the second number.\n",
    "\n"
   ]
  },
  {
   "cell_type": "code",
   "execution_count": 5,
   "metadata": {},
   "outputs": [
    {
     "name": "stdout",
     "output_type": "stream",
     "text": [
      "(120+7j) (80-3j) (1990+540j) (4.729411764705882-1.0823529411764705j) (-1.2240475934924411e+39-9.001914387524683e+39j)\n"
     ]
    }
   ],
   "source": [
    "100 + 2j , 20 + 5j\n",
    "a = 100 + 2j\n",
    "b = 20  + 5j\n",
    "Sum = a + b\n",
    "Difference = a - b \n",
    "Product = a * b \n",
    "Division = a / b \n",
    "Power = a ** b\n",
    "print(Sum, Difference,  Product, Division,  Power)\n"
   ]
  },
  {
   "cell_type": "markdown",
   "metadata": {},
   "source": [
    "    Q. Comparison Operation not applicable between instance of complex values.\n",
    "    Object reusability concept is not applicable on complex number\n"
   ]
  },
  {
   "cell_type": "code",
   "execution_count": 6,
   "metadata": {},
   "outputs": [
    {
     "ename": "TypeError",
     "evalue": "'>' not supported between instances of 'complex' and 'complex'",
     "output_type": "error",
     "traceback": [
      "\u001b[1;31m---------------------------------------------------------------------------\u001b[0m",
      "\u001b[1;31mTypeError\u001b[0m                                 Traceback (most recent call last)",
      "Cell \u001b[1;32mIn[6], line 4\u001b[0m\n\u001b[0;32m      2\u001b[0m a \u001b[38;5;241m=\u001b[39m \u001b[38;5;241m100\u001b[39m \u001b[38;5;241m+\u001b[39m \u001b[38;5;241m2\u001b[39mj\n\u001b[0;32m      3\u001b[0m b \u001b[38;5;241m=\u001b[39m \u001b[38;5;241m20\u001b[39m  \u001b[38;5;241m+\u001b[39m \u001b[38;5;241m5\u001b[39mj\n\u001b[1;32m----> 4\u001b[0m \u001b[38;5;28mprint\u001b[39m(a \u001b[38;5;241m>\u001b[39m b)\n\u001b[0;32m      5\u001b[0m \u001b[38;5;28mprint\u001b[39m(a \u001b[38;5;241m<\u001b[39m b)\n\u001b[0;32m      6\u001b[0m \u001b[38;5;28mprint\u001b[39m(a \u001b[38;5;241m>\u001b[39m\u001b[38;5;241m=\u001b[39m b)\n",
      "\u001b[1;31mTypeError\u001b[0m: '>' not supported between instances of 'complex' and 'complex'"
     ]
    }
   ],
   "source": [
    "100 + 2j , 20 + 5j\n",
    "a = 100 + 2j\n",
    "b = 20  + 5j\n",
    "print(a > b)\n",
    "print(a < b)\n",
    "print(a >= b)\n",
    "print(a <= b)"
   ]
  },
  {
   "cell_type": "markdown",
   "metadata": {},
   "source": [
    "    Q. Equality Operator\n",
    "    Take two different complex numbers.\n",
    "    Store them in two different variables.\n",
    "    Equate them using equality operators (==, !=)\n",
    "    Observe the output(return type should be boolean)"
   ]
  },
  {
   "cell_type": "code",
   "execution_count": 7,
   "metadata": {},
   "outputs": [
    {
     "name": "stdout",
     "output_type": "stream",
     "text": [
      "False\n",
      "True\n"
     ]
    }
   ],
   "source": [
    "100 + 2j , 20 + 5j\n",
    "a = 100 + 2j\n",
    "b = 20  + 5j\n",
    "print(a == b)\n",
    "print(a != b)\n",
    "\n"
   ]
  },
  {
   "cell_type": "markdown",
   "metadata": {},
   "source": [
    "      Q. Logical operators\n",
    "    Observe the output of below code\n",
    "    Cross check the output manually\n",
    "    print(10+20j and 20+30j) #20+30j\n",
    "    #----------------------------------------->Output is 20+30j\n",
    "    print(0+0j and 20+30j) #0+0j\n",
    "    #----------------------------------------->Output is 0j\n",
    "    print(20+30j and 0+0j) #0+0j\n",
    "    #----------------------------------------->Output is 0j\n",
    "    print(0+0j and 0+0j) #0+0j\n",
    "    #----------------------------------------->Output is 0j\n",
    "    print(10+20j or 20+30j) #10+20j\n",
    "    #----------------------------------------->Output is 10+20jprint(0+0j or 20+30j) #20+30j\n",
    "    #----------------------------------------->Output is 20+30j\n",
    "    print(20+30j or 0+0j) #20+30j\n",
    "    #----------------------------------------->Output is 20+30j\n",
    "    print(0+0j or 0+0j) #0+0j\n",
    "    #----------------------------------------->Output is 0j\n",
    "    print(not 10+20j) #False\n",
    "    #----------------------------------------->Output is False\n",
    "    print(not 0+0j) #True\n",
    "    #----------------------------------------->Output is True"
   ]
  },
  {
   "cell_type": "code",
   "execution_count": 8,
   "metadata": {},
   "outputs": [
    {
     "name": "stdout",
     "output_type": "stream",
     "text": [
      "(20+30j)\n",
      "0j\n",
      "0j\n",
      "0j\n",
      "(10+20j)\n",
      "(20+30j)\n",
      "(20+30j)\n",
      "0j\n",
      "False\n",
      "True\n"
     ]
    }
   ],
   "source": [
    "\n",
    "print(10+20j and 20+30j)\n",
    "\n",
    "print(0+0j and 20+30j)\n",
    "\n",
    "print(20+30j and 0+0j) \n",
    "\n",
    "print(0+0j and 0+0j) \n",
    "\n",
    "print(10+20j or 20+30j) \n",
    "\n",
    "print(0+0j or 20+30j)\n",
    "\n",
    "print(20+30j or 0+0j)\n",
    "\n",
    "print(0+0j or 0+0j) \n",
    "\n",
    "print(not 10+20j) \n",
    "\n",
    "print(not 0+0j) \n",
    "\n"
   ]
  },
  {
   "cell_type": "markdown",
   "metadata": {},
   "source": [
    "    Q. What is the output of the expression inside the print statement.\n",
    "    Cross check before running the program.\n",
    "    a = 10+20j\n",
    "    b = 10+20j\n",
    "    print(a is b) #False #True or False?\n",
    "    print(a is not b) #True #True or False?"
   ]
  },
  {
   "cell_type": "code",
   "execution_count": 9,
   "metadata": {},
   "outputs": [
    {
     "name": "stdout",
     "output_type": "stream",
     "text": [
      "False\n",
      "True\n"
     ]
    }
   ],
   "source": [
    "a = 10+20j\n",
    "b = 10+20j\n",
    "print(a is b) \n",
    "print(a is not b)"
   ]
  },
  {
   "cell_type": "markdown",
   "metadata": {},
   "source": [
    "    Q. Membership operation\n",
    "    in, not in are two membership operators and it returns boolean value\n",
    "    print('2.7' in 'Python2.7.8') #True\n",
    "    print(10+20j in [10,10.20,10+20j,'Python']) #True\n",
    "    print(10+20j in (10,10.20,10+20j,'Python')) #True\n",
    "    print(30+40j in {1,20.30,30+40j}) #True\n",
    "    print(30+40j in {1:100, 2.3:200, 30+40j:300}) #True\n",
    "    print(10 in range(20)) #True"
   ]
  },
  {
   "cell_type": "code",
   "execution_count": 10,
   "metadata": {},
   "outputs": [
    {
     "name": "stdout",
     "output_type": "stream",
     "text": [
      "True\n",
      "True\n",
      "True\n",
      "True\n",
      "True\n",
      "True\n"
     ]
    }
   ],
   "source": [
    "print('2.7' in 'Python2.7.8') \n",
    "print(10+20j in [10,10.20,10+20j,'Python'])\n",
    "print(10+20j in (10,10.20,10+20j,'Python'))\n",
    "print(30+40j in {1,20.30,30+40j}) \n",
    "print(30+40j in {1:100, 2.3:200, 30+40j:300})\n",
    "print(10 in range(20)) "
   ]
  }
 ],
 "metadata": {
  "kernelspec": {
   "display_name": "pyspark-env",
   "language": "python",
   "name": "python3"
  },
  "language_info": {
   "codemirror_mode": {
    "name": "ipython",
    "version": 3
   },
   "file_extension": ".py",
   "mimetype": "text/x-python",
   "name": "python",
   "nbconvert_exporter": "python",
   "pygments_lexer": "ipython3",
   "version": "3.12.3"
  }
 },
 "nbformat": 4,
 "nbformat_minor": 2
}

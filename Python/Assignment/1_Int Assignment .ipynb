{
 "cells": [
  {
   "cell_type": "markdown",
   "metadata": {
    "tags": [
     "Assignment Submission Details"
    ]
   },
   "source": [
    "   <h3 style = \"color : Greay\">\n",
    "<Br> Name  - Ritu Prajapati\n",
    "<Br> Batch - 22 Dec 2024\n",
    "<Br> Email - rituprajapatti0507@gmail.com"
   ]
  },
  {
   "cell_type": "markdown",
   "metadata": {},
   "source": [
    "   <h3 style = \"color : Aqua\">\n",
    "<Br> Int Assignment"
   ]
  },
  {
   "cell_type": "markdown",
   "metadata": {},
   "source": [
    "   <h5 style = \"color : pink\">\n",
    "    Q. Declare an int value and store it in a variable. \n",
    "    <Br>Check the type and print the id of the same."
   ]
  },
  {
   "cell_type": "code",
   "execution_count": 1,
   "metadata": {
    "ExecuteTime": {
     "end_time": "2022-09-10T20:58:01.565549Z",
     "start_time": "2022-09-10T20:58:01.534627Z"
    }
   },
   "outputs": [
    {
     "name": "stdout",
     "output_type": "stream",
     "text": [
      "<class 'int'> 140720501009112\n"
     ]
    }
   ],
   "source": [
    "10 \n",
    "a = 10 \n",
    "print(type(a),id(a))"
   ]
  },
  {
   "cell_type": "markdown",
   "metadata": {},
   "source": [
    "<h5 style = \"color : pink\">    \n",
    "Q. Take one int value between 0 - 256. \n",
    "<br> Assign it to two different variables.\n",
    "<br> Check the id of both the variables. It should come the same. Check why?"
   ]
  },
  {
   "cell_type": "code",
   "execution_count": 2,
   "metadata": {
    "ExecuteTime": {
     "end_time": "2022-09-10T20:58:01.724121Z",
     "start_time": "2022-09-10T20:58:01.571531Z"
    }
   },
   "outputs": [
    {
     "name": "stdout",
     "output_type": "stream",
     "text": [
      "140720501009112 140720501009112\n"
     ]
    }
   ],
   "source": [
    "10\n",
    "a = 10 \n",
    "b = 10 \n",
    "print(id(a),id(b))\n",
    "# They are calling the same object using object reference "
   ]
  },
  {
   "cell_type": "markdown",
   "metadata": {},
   "source": [
    " <h5 style = \"color : pink\">\n",
    "     Q. Take one int value either less than -5 or greater than 256.\n",
    "<br>    Assign it to two different variables.\n",
    "<br>    Check the id of both the variables. It should come different.Check why?"
   ]
  },
  {
   "cell_type": "code",
   "execution_count": 3,
   "metadata": {
    "ExecuteTime": {
     "end_time": "2022-09-10T20:58:01.851809Z",
     "start_time": "2022-09-10T20:58:01.729110Z"
    }
   },
   "outputs": [
    {
     "name": "stdout",
     "output_type": "stream",
     "text": [
      "2158524065296 2158524064176\n"
     ]
    }
   ],
   "source": [
    "300\n",
    "a = 300\n",
    "b = 300\n",
    "print(id(a),id(b))\n",
    "#The object reference is only valid for values between -5 or greater than 256."
   ]
  },
  {
   "cell_type": "markdown",
   "metadata": {},
   "source": [
    "   <h5 style = \"color : PINK\">    \n",
    "    Q. Arithmetic Operations on integers\n",
    "     Take two different integer values.\n",
    "     <br>Store them in two different variables.\n",
    "     <br>Do below operations on them:-\n",
    "     <br>Find sum of both numbers\n",
    "     <br>Find difference between them \n",
    "     <br>Find the product of both numbers.\n",
    "     <br>Find value after dividing first num with second number\n",
    "    <br> Find the remainder after dividing first number with second number\n",
    "    <br> Find the quotient after dividing first number with second number\n",
    "    <br> Find the result of the first num to the power of the second number.\n"
   ]
  },
  {
   "cell_type": "code",
   "execution_count": 4,
   "metadata": {
    "ExecuteTime": {
     "end_time": "2022-09-10T20:58:01.977446Z",
     "start_time": "2022-09-10T20:58:01.855770Z"
    }
   },
   "outputs": [
    {
     "name": "stdout",
     "output_type": "stream",
     "text": [
      "120 80 2000 5.0 0 5 10000000000000000000000000000000000000000\n"
     ]
    }
   ],
   "source": [
    "100 , 20\n",
    "a = 100\n",
    "b = 20\n",
    "Sum = a + b\n",
    "Difference = a - b \n",
    "Product = a * b \n",
    "Division = a / b \n",
    "Remainder = a % b\n",
    "Quotient = a // b \n",
    "Power = a ** b\n",
    "print(Sum, Difference,  Product, Division, Remainder, Quotient , Power)\n"
   ]
  },
  {
   "cell_type": "markdown",
   "metadata": {},
   "source": [
    "   <h5 style = \"color : pink\">\n",
    "    Q. Comparison Operators on integers\n",
    "  <br>  Take two different integer values.\n",
    "   <br> Store them in two different variables.\n",
    "    <br>Do below operations on them:-\n",
    "   <br>  Compare se two numbers with below operator:-\n",
    "    <br> Greater than, '>'\n",
    "    <br> Smaller than, '<'\n",
    "  <br> Greater than or equal to, '>='\n",
    "    <br> Less than or equal to, '<='\n",
    "   <br> Observe their output(return type should be boolean)\n"
   ]
  },
  {
   "cell_type": "code",
   "execution_count": 5,
   "metadata": {
    "ExecuteTime": {
     "end_time": "2022-09-10T20:58:02.180907Z",
     "start_time": "2022-09-10T20:58:01.981433Z"
    }
   },
   "outputs": [
    {
     "name": "stdout",
     "output_type": "stream",
     "text": [
      "True\n",
      "False\n",
      "True\n",
      "False\n"
     ]
    }
   ],
   "source": [
    "100 , 20\n",
    "a = 100 \n",
    "b = 20\n",
    "print(a > b)\n",
    "print(a < b)\n",
    "print(a >= b)\n",
    "print(a <= b)\n"
   ]
  },
  {
   "cell_type": "markdown",
   "metadata": {},
   "source": [
    "  <h5 style = \"color : pink\">\n",
    "    Q. Equality Operator\n",
    "    Take two different integer values.\n",
    "   <br> Store them in two different variables.\n",
    "   <br> Equate them using equality operators (==, !=)\n",
    "   <br> Observe the output(return type should be boolean)"
   ]
  },
  {
   "cell_type": "code",
   "execution_count": 6,
   "metadata": {
    "ExecuteTime": {
     "end_time": "2022-09-10T20:58:02.340502Z",
     "start_time": "2022-09-10T20:58:02.185886Z"
    }
   },
   "outputs": [
    {
     "name": "stdout",
     "output_type": "stream",
     "text": [
      "False\n",
      "True\n"
     ]
    }
   ],
   "source": [
    "100 , 20\n",
    "a = 100 \n",
    "b = 20\n",
    "print(a == b)\n",
    "print(a != b)\n",
    "\n"
   ]
  },
  {
   "cell_type": "markdown",
   "metadata": {},
   "source": [
    "   <h5 style = \"color : pink\">\n",
    "    Q. Logical operators \n",
    "   <br> Observe the output of below codeCross check the output manually \n",
    "    <br> print(10 and 20)\n",
    "    <br> #----------------------------------------->Output is 20\n",
    "    <br> print(0 and 20)\n",
    "    <br> #----------------------------------------->Output is 0\n",
    "    <br> print(20 and 0)\n",
    "    <br> #----------------------------------------->Output is 0\n",
    "     <br>print(0 and 0)\n",
    "    <br> #----------------------------------------->Output is 0\n",
    "    <br> print(10 or 20)\n",
    "   <br> #----------------------------------------->Output is 10\n",
    "    <br> print(0 or 20)\n",
    "    <br> #----------------------------------------->Output is 20\n",
    "    <br>print(20 or 0)\n",
    "    <br>#----------------------------------------->Output is 20\n",
    "   <br> print(0 or 0)\n",
    "   <br> #----------------------------------------->Output is 0\n",
    "  <br>  print(not 10)\n",
    "   <br> #----------------------------------------->Output is False\n",
    "   <br> print(not 0)\n",
    "   <br> #----------------------------------------->Output is True"
   ]
  },
  {
   "cell_type": "code",
   "execution_count": 7,
   "metadata": {
    "ExecuteTime": {
     "end_time": "2022-09-10T20:58:02.483094Z",
     "start_time": "2022-09-10T20:58:02.344462Z"
    }
   },
   "outputs": [
    {
     "name": "stdout",
     "output_type": "stream",
     "text": [
      "20\n",
      "0\n",
      "0\n",
      "0\n",
      "10\n",
      "20\n",
      "20\n",
      "0\n",
      "False\n",
      "True\n"
     ]
    }
   ],
   "source": [
    "\n",
    "print(10 and 20)\n",
    "\n",
    "print(0 and 20)\n",
    "\n",
    "print(20 and 0)\n",
    "\n",
    "print(0 and 0)\n",
    "\n",
    "print(10 or 20)\n",
    "\n",
    "print(0 or 20)\n",
    "\n",
    "print(20 or 0)\n",
    "\n",
    "print(0 or 0)\n",
    "\n",
    "print(not 10)\n",
    "\n",
    "print(not 0)\n"
   ]
  },
  {
   "cell_type": "markdown",
   "metadata": {},
   "source": [
    "  <h5 style = \"color : pink\">\n",
    "    Q. Bitwise Operators\n",
    "   <br> Do below operations on the values provided below:-\n",
    "   <br>  Bitwise and(&) -----------------------------------------> 10, 20   &nbsp;                  -------> Output is 0\n",
    "    <br> Bitwise or(|) -----------------------------------------> 10, 20    &ensp;  &nbsp;  &nbsp;  -------> Output is 30\n",
    "    <br> Bitwise(^) -----------------------------------------> 10, 20       &ensp;  &nbsp;  &emsp;  -------> Output is 30\n",
    "    <br> Bitwise negation(~) ------------------------------------> 10       &ensp;  &emsp;          -------> Output is -11\n",
    "    <br> Bitwise left shift ------------------------------------> 10,2      &ensp;  &ensp;  &emsp;  -------> Output is 40\n",
    "    <br> Bitwise right shift ------------------------------------> 10,2     &ensp;  &emsp;          -------> Output is 2\n",
    "    <br>Cross check the output manually"
   ]
  },
  {
   "cell_type": "code",
   "execution_count": 8,
   "metadata": {
    "ExecuteTime": {
     "end_time": "2022-09-10T20:58:02.682862Z",
     "start_time": "2022-09-10T20:58:02.491069Z"
    }
   },
   "outputs": [
    {
     "name": "stdout",
     "output_type": "stream",
     "text": [
      "0\n",
      "30\n",
      "30\n",
      "-11\n",
      "40\n",
      "2\n"
     ]
    }
   ],
   "source": [
    "print(10 & 20)\n",
    "print(10 | 20)\n",
    "print(10 ^ 20 )\n",
    "print(~10)\n",
    "print(10 << 2)\n",
    "print(10 >> 2)"
   ]
  },
  {
   "cell_type": "markdown",
   "metadata": {},
   "source": [
    "  <h5 style = \"color : pink\">\n",
    "    Q. What is the output of expression inside print statement. Cross check\n",
    " <br>   before running the program.a = 10\n",
    "  <br>   b = 10\n",
    "  <br> print(a is b) #True or False?\n",
    "  <br> print(a is not b) #True or False?\n",
    "   <br>  a = 1000\n",
    "   <br>  b = 1000\n",
    "  <br>  print(a is b) #True or False?\n",
    "   <br> print(a is not b) #True or False?"
   ]
  },
  {
   "cell_type": "code",
   "execution_count": 9,
   "metadata": {
    "ExecuteTime": {
     "end_time": "2022-09-10T20:58:02.810552Z",
     "start_time": "2022-09-10T20:58:02.689843Z"
    }
   },
   "outputs": [
    {
     "name": "stdout",
     "output_type": "stream",
     "text": [
      "True\n",
      "False\n",
      "False\n",
      "True\n"
     ]
    }
   ],
   "source": [
    "a = 10\n",
    "b = 10\n",
    "print(a is b) #True \n",
    "print(a is not b) #False\n",
    "a = 1000\n",
    "b = 1000\n",
    "print(a is b) # False\n",
    "print(a is not b) #True"
   ]
  },
  {
   "cell_type": "markdown",
   "metadata": {},
   "source": [
    "   <h5 style = \"color : pink\">\n",
    "    Q. What is the output of expression inside print statement. Cross check\n",
    "    before running the program.\n",
    "   <br> print(10+(10*32)//2**5&20+(~(-10))<<2)"
   ]
  },
  {
   "cell_type": "code",
   "execution_count": 10,
   "metadata": {
    "ExecuteTime": {
     "end_time": "2022-09-10T20:58:03.141637Z",
     "start_time": "2022-09-10T20:58:02.814509Z"
    }
   },
   "outputs": [
    {
     "name": "stdout",
     "output_type": "stream",
     "text": [
      "20\n"
     ]
    }
   ],
   "source": [
    "print(10+(10*32)//2**5&20+(~(-10))<<2)\n",
    "# (10 + (10 * 32) // 2 ** 5  &  20 + ( ~ (-10) ) << 2)\n",
    "# 10 + 320 // 2 ** 5 & 20 + 9 << 2 \n",
    "# 10 + 320 // 32 & 20  + 9 << 2\n",
    "# 10  + 10  & 20  + 9 << 2\n",
    "# 20 & 29 << 2\n",
    "# 20 & 116\n",
    "# 20\n",
    "\n"
   ]
  },
  {
   "cell_type": "markdown",
   "metadata": {},
   "source": [
    "   <h5 style = \"color : pink\">\n",
    "    Q. Membership operation\n",
    "    in, not in are two membership operators and it returns boolean value\n",
    "   <br> print('2' in 'Python2.7.8')\n",
    "   <br> print(10 in [10,10.20,10+20j,'Python'])\n",
    "   <br> print(10 in (10,10.20,10+20j,'Python'))\n",
    "   <br> print(2 in {1,2,3})\n",
    "   <br> print(3 in {1:100, 2:200, 3:300})\n",
    "   <br> print(10 in range(20))"
   ]
  },
  {
   "cell_type": "code",
   "execution_count": 11,
   "metadata": {
    "ExecuteTime": {
     "end_time": "2022-09-10T20:58:03.264306Z",
     "start_time": "2022-09-10T20:58:03.146621Z"
    }
   },
   "outputs": [
    {
     "name": "stdout",
     "output_type": "stream",
     "text": [
      "True\n",
      "True\n",
      "True\n",
      "True\n",
      "True\n",
      "True\n"
     ]
    }
   ],
   "source": [
    "print('2' in 'Python2.7.8')\n",
    "print(10 in [10,10.20,10+20j,'Python'])\n",
    "print(10 in (10,10.20,10+20j,'Python'))\n",
    "print(2 in {1,2,3})\n",
    "print(3 in {1:100, 2:200, 3:300})\n",
    "print(10 in range(20))"
   ]
  },
  {
   "cell_type": "markdown",
   "metadata": {},
   "source": [
    "<h5 style = \"color : pink\">\n",
    "    Q. An integer can be represented in binary, octal or hexadecimal form.\n",
    "    <br>Declare one binary, one octal and one hexadecimal value and store them\n",
    "    <br>in three different variables.\n",
    "   <br> Convert 9876 to its binary, octal and hexadecimal equivalent and print\n",
    "   <br> their corresponding value."
   ]
  },
  {
   "cell_type": "code",
   "execution_count": 12,
   "metadata": {
    "ExecuteTime": {
     "end_time": "2022-09-10T20:58:03.471758Z",
     "start_time": "2022-09-10T20:58:03.268298Z"
    }
   },
   "outputs": [
    {
     "name": "stdout",
     "output_type": "stream",
     "text": [
      "0b10011010010100 in binary.\n",
      "0o23224 in octal.\n",
      "0x2694 in hexadecimal.\n"
     ]
    }
   ],
   "source": [
    "0b101011000 \n",
    "0o530 \n",
    "0x158\n",
    "x = 0b101011000 \n",
    "y = 0o530 \n",
    "z = 0x158\n",
    "a = 9876\n",
    "print(bin(a), \"in binary.\")\n",
    "print(oct(a), \"in octal.\")\n",
    "print(hex(a), \"in hexadecimal.\")"
   ]
  },
  {
   "cell_type": "markdown",
   "metadata": {},
   "source": [
    "<h5 style = \"color : pink\">\n",
    "    Q. What will be the output of following:-\n",
    "    <br>a = 0b1010000\n",
    "   <br> print(a)\n",
    "  <br>  b = 0o7436\n",
    "  <br>  print(b)\n",
    "  <br>  c = 0xfade\n",
    "  <br>  print(c)\n",
    "  <br>  print(bin(80))\n",
    "  <br>  print(oct(3870))\n",
    "  <br>  print(hex(64222))\n",
    "  <br>  print(bin(0b1010000))\n",
    "  <br>  print(bin(0xfade))\n",
    "  <br>  print(oct(0xfade))\n",
    "   <br> print(oct(0o7436))\n",
    "   <br> print(hex(0b1010000))\n",
    "    <br>print(hex(0xfade))"
   ]
  },
  {
   "cell_type": "code",
   "execution_count": 13,
   "metadata": {
    "ExecuteTime": {
     "end_time": "2022-09-10T20:58:03.693160Z",
     "start_time": "2022-09-10T20:58:03.475742Z"
    }
   },
   "outputs": [
    {
     "name": "stdout",
     "output_type": "stream",
     "text": [
      "80\n",
      "3870\n",
      "64222\n",
      "0b1010000\n",
      "0o7436\n",
      "0xfade\n",
      "0b1010000\n",
      "0b1111101011011110\n",
      "0o175336\n",
      "0o7436\n",
      "0x50\n",
      "0xfade\n"
     ]
    }
   ],
   "source": [
    "a = 0b1010000\n",
    "print(a)\n",
    "b = 0o7436\n",
    "print(b)\n",
    "c = 0xfade\n",
    "print(c)\n",
    "print(bin(80))\n",
    "print(oct(3870))\n",
    "print(hex(64222))\n",
    "print(bin(0b1010000))\n",
    "print(bin(0xfade))\n",
    "print(oct(0xfade))\n",
    "print(oct(0o7436))\n",
    "print(hex(0b1010000))\n",
    "print(hex(0xfade))"
   ]
  },
  {
   "cell_type": "code",
   "execution_count": null,
   "metadata": {},
   "outputs": [],
   "source": []
  }
 ],
 "metadata": {
  "kernelspec": {
   "display_name": "pyspark-env",
   "language": "python",
   "name": "python3"
  },
  "language_info": {
   "codemirror_mode": {
    "name": "ipython",
    "version": 3
   },
   "file_extension": ".py",
   "mimetype": "text/x-python",
   "name": "python",
   "nbconvert_exporter": "python",
   "pygments_lexer": "ipython3",
   "version": "3.12.3"
  }
 },
 "nbformat": 4,
 "nbformat_minor": 2
}

{
 "cells": [
  {
   "cell_type": "markdown",
   "metadata": {},
   "source": [
    "   <h3 style = \"color : Greay\">\n",
    "<Br> Name  - Ritu Prajapati\n",
    "<Br> Batch - 22 Dec 2024\n",
    "<Br> Email - rituprajapatti0507@gmail.com"
   ]
  },
  {
   "cell_type": "markdown",
   "metadata": {},
   "source": [
    "## Function Assignment"
   ]
  },
  {
   "cell_type": "code",
   "execution_count": 1,
   "metadata": {
    "id": "1YVTYu-CuCOO"
   },
   "outputs": [
    {
     "name": "stdout",
     "output_type": "stream",
     "text": [
      "3\n"
     ]
    }
   ],
   "source": [
    "# Define a function calls addNumber(x, y) that takes in two number and returns the sum of the two numbers.\n",
    "\n",
    "def addNumber(x,y):\n",
    "    return print(x+y)\n",
    "\n",
    "addNumber(1,2)\n",
    "    \n"
   ]
  },
  {
   "cell_type": "code",
   "execution_count": 2,
   "metadata": {
    "id": "1-gIq-Rju2i2"
   },
   "outputs": [
    {
     "name": "stdout",
     "output_type": "stream",
     "text": [
      "4\n"
     ]
    }
   ],
   "source": [
    "# Define a function calls subtractNumber(x, y) that takes in two numbers and returns the difference of the two numbers.\n",
    "\n",
    "\n",
    "def subtractNumber(x, y):\n",
    "    return print(x-y)\n",
    "\n",
    "subtractNumber(6,2)"
   ]
  },
  {
   "cell_type": "code",
   "execution_count": 3,
   "metadata": {
    "id": "kiAE0iLbviG9"
   },
   "outputs": [
    {
     "data": {
      "text/plain": [
       "20"
      ]
     },
     "execution_count": 3,
     "metadata": {},
     "output_type": "execute_result"
    }
   ],
   "source": [
    "# Write a function getBiggerNumber(x, y) that takes in two numbers as arguments and returns the bigger number.\n",
    "\n",
    "def getBiggerNumber(x, y):\n",
    "    return (x if x > y else y)\n",
    "\n",
    "getBiggerNumber(10,20)\n",
    "\n"
   ]
  },
  {
   "cell_type": "code",
   "execution_count": 4,
   "metadata": {
    "id": "10B5oVcZh16d"
   },
   "outputs": [
    {
     "name": "stdout",
     "output_type": "stream",
     "text": [
      "4.0\n",
      "4.0\n",
      "28.274333882308138\n"
     ]
    }
   ],
   "source": [
    "# Python provides many built-in modules with many useful functions. \n",
    "# One such module is the math module. The math module provides many useful functions such as sqrt(x),\n",
    "#pow(x, y), ceil(x), floor(x) etc. \n",
    "# You will need to do a \"import math\" before you are allowed to use the functions within the math module.\n",
    "\n",
    "\n",
    "# Calculate the square root of 16 and stores it in the variable a\n",
    "\n",
    "import math\n",
    "\n",
    "def squareRoot(x):\n",
    "    a = math.sqrt(x)\n",
    "    return print(a)\n",
    "\n",
    "squareRoot(16)\n",
    "\n",
    "# Calculate 3 to the power of 5 and stores it in the variable b\n",
    "\n",
    "import math\n",
    "\n",
    "def Power(x,y):\n",
    "    b = math.pow(x,y)\n",
    "    return print(b)\n",
    "\n",
    "Power(2,2)\n",
    "\n",
    "\n",
    "# Calculate area of circle with radius = 3.0 by making use of the math.pi constant and store it in the variable c\n",
    "\n",
    "import math\n",
    "\n",
    "def Circle(x):\n",
    "    c = math.pi*(x**2)\n",
    "    return print(c)\n",
    "\n",
    "Circle(3.0)\n",
    "\n"
   ]
  },
  {
   "cell_type": "code",
   "execution_count": 5,
   "metadata": {
    "id": "Yado0B99h2E_"
   },
   "outputs": [
    {
     "name": "stdout",
     "output_type": "stream",
     "text": [
      "82.4\n",
      "32.0\n"
     ]
    }
   ],
   "source": [
    "# Write a function to convert temperature from Celsius to Fahrenheit scale.\n",
    "# oC to oF Conversion: Multipy by 9, then divide by 5, then add 32.\n",
    "\n",
    "# Note: Return a string of 2 decimal places.\n",
    "# In - Cel2Fah(28.0)\n",
    "# Out - '82.40'\n",
    "# In - Cel2Fah(0.00)\n",
    "# Out - '32.00'\n",
    "\n",
    "\n",
    "def Cel2Fah(x):\n",
    "    c = (x*9)/5 + 32\n",
    "    return print(c)\n",
    "\n",
    "Cel2Fah(28.0)\n",
    "Cel2Fah(0.00)\n"
   ]
  },
  {
   "cell_type": "code",
   "execution_count": 6,
   "metadata": {
    "id": "n7lsFol9h2ID"
   },
   "outputs": [
    {
     "name": "stdout",
     "output_type": "stream",
     "text": [
      "21.8\n",
      "27.5\n"
     ]
    }
   ],
   "source": [
    "# Write a function to compute the BMI of a person.\n",
    "#     BMI = weight(kg)  /  ( height(m)*height(m) )\n",
    "\n",
    "# Note: Return a string of 1 decimal place.\n",
    "# In - BMI(63, 1.7)\n",
    "# Out - '21.8'\n",
    "# In - BMI(110, 2)\n",
    "# Out - '27.5'\n",
    "\n",
    "def BMI(weight,height):\n",
    "    BMI = round((weight / ( height*height )),2)\n",
    "    return print(BMI)\n",
    "\n",
    "BMI(63, 1.7)\n",
    "BMI(110, 2)\n",
    "\n"
   ]
  },
  {
   "cell_type": "code",
   "execution_count": 7,
   "metadata": {
    "id": "f2tV1AU8h2LN"
   },
   "outputs": [
    {
     "name": "stdout",
     "output_type": "stream",
     "text": [
      "51\n",
      "100\n",
      "525\n"
     ]
    }
   ],
   "source": [
    "# Write a function percent(value, total) that takes in two numbers as arguments, and returns the percentage value as an integer.\n",
    "# In - percent(46, 90)\n",
    "# Out - 51\n",
    "# In - percent(51, 51)\n",
    "# Out - 100\n",
    "# In - percent(63, 12)\n",
    "# Out - 525\n",
    "\n",
    "\n",
    "def percent(x,y):\n",
    "    prct = int((x / y)*100)\n",
    "    return print(prct)\n",
    "\n",
    "percent(46, 90)\n",
    "percent(51, 51)\n",
    "percent(63, 12)\n"
   ]
  },
  {
   "cell_type": "code",
   "execution_count": 8,
   "metadata": {
    "id": "QyoWR3dQh2OZ"
   },
   "outputs": [
    {
     "name": "stdout",
     "output_type": "stream",
     "text": [
      "5\n",
      "13\n"
     ]
    }
   ],
   "source": [
    "# Write a function to compute the hypotenuse given sides a and b of the triangle.\n",
    "# Hint: You can use math.sqrt(x) to compute the square root of x.\n",
    "# In - hypotenuse(3, 4)\n",
    "# Out - 5\n",
    "# In - hypotenuse(5, 12)\n",
    "# Out - 13\n",
    "\n",
    "import math\n",
    "\n",
    "def hypotenuse(x,y):\n",
    "    z = (x**2 + y**2)\n",
    "    \n",
    "    return print(int(math.sqrt(z)))\n",
    "\n",
    "hypotenuse(3, 4)\n",
    "hypotenuse(5, 12)\n"
   ]
  },
  {
   "cell_type": "code",
   "execution_count": 9,
   "metadata": {
    "id": "XthPUigkh2Ro"
   },
   "outputs": [
    {
     "data": {
      "text/plain": [
       "10"
      ]
     },
     "execution_count": 9,
     "metadata": {},
     "output_type": "execute_result"
    }
   ],
   "source": [
    "# Write a function getSumOfLastDigits() that takes in a list of positive numbers and\n",
    "#returns the sum of all the last digits in the list.\n",
    "# getSumOfLastDigits([2, 3, 4])\n",
    "# 9\n",
    "# getSumOfLastDigits([1, 23, 456])\n",
    "# 10\n",
    "\n",
    "def getSumOfLastDigits(lst):\n",
    "    add = 0 \n",
    "    for i in lst:\n",
    "        a = i%10\n",
    "        add += a\n",
    "    return add\n",
    "\n",
    "\n",
    "\n",
    "getSumOfLastDigits([1, 23, 456]) \n",
    "\n"
   ]
  },
  {
   "cell_type": "code",
   "execution_count": 10,
   "metadata": {
    "id": "T-uIqm9Mh2Un"
   },
   "outputs": [
    {
     "name": "stdout",
     "output_type": "stream",
     "text": [
      "My name is Lim. I am 20 years old.\n",
      "My name is Ahmad. My age is secret.\n"
     ]
    }
   ],
   "source": [
    "# Write a function that uses a default value.\n",
    "# In - introduce('Lim', 20)\n",
    "# Out - 'My name is Lim. I am 20 years old.'\n",
    "# In - introduce('Ahmad')\n",
    "# Out - 'My name is Ahmad. My age is secret.'\n",
    "\n",
    "\n",
    "def introduce(x,y=None):\n",
    "    if y != None :\n",
    "        return 'My name is ' +str(x) +'. I am '+ str(y) +' years old.'\n",
    "    else:\n",
    "        return 'My name is ' + str(x) +'. My age is secret.' \n",
    "\n",
    "# def introduce(x):\n",
    "#     c = 'My name is ' + str(x) +'. My age is secret.' \n",
    "#     return print(c)\n",
    "\n",
    "print(introduce('Lim', 20))\n",
    "\n",
    "print(introduce('Ahmad'))\n"
   ]
  },
  {
   "cell_type": "code",
   "execution_count": 11,
   "metadata": {
    "id": "h0pXo5vH6wA-"
   },
   "outputs": [
    {
     "name": "stdout",
     "output_type": "stream",
     "text": [
      "False\n",
      "True\n",
      "True\n"
     ]
    }
   ],
   "source": [
    "# Write a function isEquilateral(x, y, z) that accepts the 3 sides of a triangle as arguments. \n",
    "# The program should return True if it is an equilateral triangle.\n",
    "\n",
    "# In - isEquilateral(2, 4, 3)\n",
    "# False - False\n",
    "# In - isEquilateral(3, 3, 3)\n",
    "# Out - True\n",
    "# In - isEquilateral(-3, -3, -3)\n",
    "# Out - False\n",
    "\n",
    "\n",
    "def isEquilateral(x,y,z):\n",
    "    if x == y and y == z:\n",
    "        return True\n",
    "    else:\n",
    "        return False\n",
    "    \n",
    "print(isEquilateral(2, 4, 3))   \n",
    "\n",
    "print(isEquilateral(3, 3, 3))\n",
    "\n",
    "print(isEquilateral(-3, -3, -3))\n"
   ]
  },
  {
   "cell_type": "code",
   "execution_count": 12,
   "metadata": {
    "id": "3NvcKCkn6wFy"
   },
   "outputs": [
    {
     "name": "stdout",
     "output_type": "stream",
     "text": [
      "The discriminant is -8.\n",
      "The discriminant is 1.\n",
      "The discriminant is 0.\n"
     ]
    }
   ],
   "source": [
    "# # For a quadratic equation in the form of ax2+bx+c, the discriminant, D is b2-4ac.\n",
    "# Write a function to compute the discriminant, D.\n",
    "# In - quadratic(1, 2, 3)\n",
    "# Out - 'The discriminant is -8.'\n",
    "# In - quadratic(1, 3, 2)\n",
    "# Out - 'The discriminant is 1.'\n",
    "# In - quadratic(1, 4, 4)\n",
    "# Out - 'The discriminant is 0.'\n",
    "\n",
    "def quadratic(a,b,c):\n",
    "    D = b**2 - 4*a*c\n",
    "    return 'The discriminant is ' + str(D) +'.'\n",
    "\n",
    "print(quadratic(1, 2, 3))\n",
    "print(quadratic(1, 3, 2))\n",
    "print(quadratic(1, 4, 4))\n",
    "    \n",
    "\n"
   ]
  },
  {
   "cell_type": "code",
   "execution_count": 13,
   "metadata": {
    "colab": {
     "base_uri": "https://localhost:8080/",
     "height": 34
    },
    "id": "ihmuttBS6wJQ",
    "outputId": "0ef031e9-dec6-4ffe-b1ea-38d836dbcdcf"
   },
   "outputs": [
    {
     "name": "stdout",
     "output_type": "stream",
     "text": [
      "5\n",
      "0\n",
      "20\n"
     ]
    }
   ],
   "source": [
    "# Define a function calls addFirstAndLast(x) that takes in a list of numbers \n",
    "# and returns the sum of the first and last numbers.\n",
    "# In - addFirstAndLast([])\n",
    "# Out - 0\n",
    "# In - addFirstAndLast([2, 7, 3])\n",
    "# Out - 5\n",
    "# In - addFirstAndLast([10])\n",
    "# Out - 10\n",
    "\n",
    "def addFirstAndLast(lst):\n",
    "    if len(lst) != 0:\n",
    "        first = lst[0]\n",
    "        last = lst[-1]\n",
    "        return (first + last)\n",
    "    else:\n",
    "        return 0\n",
    "\n",
    "print(addFirstAndLast([2,7,3]))\n",
    "print(addFirstAndLast([]))\n",
    "print(addFirstAndLast([10]))\n",
    "\n"
   ]
  },
  {
   "cell_type": "code",
   "execution_count": 14,
   "metadata": {
    "colab": {
     "base_uri": "https://localhost:8080/",
     "height": 34
    },
    "id": "lEt9HNPI6wM0",
    "outputId": "b07e15c3-a864-454c-aef5-1f1f0e07b39a"
   },
   "outputs": [
    {
     "data": {
      "text/plain": [
       "True"
      ]
     },
     "execution_count": 14,
     "metadata": {},
     "output_type": "execute_result"
    }
   ],
   "source": [
    "# Complete the 'lambda' expression so that it returns True if the argument is an even number, and False otherwise.\n",
    "\n",
    "(lambda num:num%2 == 0)(6)"
   ]
  },
  {
   "cell_type": "code",
   "execution_count": 15,
   "metadata": {
    "colab": {
     "base_uri": "https://localhost:8080/",
     "height": 35
    },
    "id": "JYWSZXPg6wQN",
    "outputId": "7b71e08d-573f-4d03-d5e3-e220df4c3b90"
   },
   "outputs": [],
   "source": [
    "\n",
    "# Get the documentation of below function\n",
    "\n",
    "def getScore():\n",
    "  ''''A function that computes and returns the final score.'''\n",
    "  pass\n",
    "\n",
    "# Signature: getScore()\n",
    "# Docstring: 'A function that computes and returns the final score.\n",
    "# File:      c:\\users\\ritup\\onedrive\\learnbay\\<ipython-input-102-76c6b71c38dc>\n",
    "# Type:      function"
   ]
  },
  {
   "cell_type": "code",
   "execution_count": 16,
   "metadata": {
    "colab": {
     "base_uri": "https://localhost:8080/",
     "height": 34
    },
    "id": "zmi81hi76wTK",
    "outputId": "232b4456-63ad-4582-d2cd-d888952dc957"
   },
   "outputs": [
    {
     "name": "stdout",
     "output_type": "stream",
     "text": [
      "True\n"
     ]
    }
   ],
   "source": [
    "# In Python, it is possible to pass a function as a argument to another function. \n",
    "# Write a function useFunction(func, num) that takes in a function and a number as arguments. \n",
    "# The useFunction should produce the output shown in the examples given below.\n",
    "\n",
    "# def addOne(x):\n",
    "#   return x + 1\n",
    "\n",
    "# useFunction(addOne, 4)\n",
    "# 25\n",
    "# useFunction(addOne, 9)\n",
    "# 100\n",
    "# useFunction(addOne, 0)\n",
    "# 1\n",
    "\n",
    "\n",
    "def addOne(x):\n",
    "      return x + 1\n",
    "\n",
    "def useFunction(func,num):\n",
    "    return True\n",
    "\n",
    "\n",
    "print(useFunction(addOne, 4)   )\n",
    "    "
   ]
  },
  {
   "cell_type": "code",
   "execution_count": 17,
   "metadata": {
    "id": "JJm1zFMX6wWK"
   },
   "outputs": [
    {
     "name": "stdout",
     "output_type": "stream",
     "text": [
      "The Large number 30\n",
      "The Large number 30\n"
     ]
    }
   ],
   "source": [
    "# Write a function find_max that accepts three numbers as arguments and returns the largest number among three.\n",
    "\n",
    "def find_max(a,b,c):\n",
    "    if a > b and a> c:\n",
    "        return f'The Large number {a}'\n",
    "    elif b > c :\n",
    "         return f'The Large number {b}'\n",
    "    else:\n",
    "         return f'The Large number {c}'\n",
    "\n",
    "print(find_max(10,12,30))\n",
    "\n",
    "# Write another function main, in main() function accept three numbers from user and call find_max.\n",
    "\n",
    "def main(lst):\n",
    "    find_max\n",
    "    \n",
    "print(find_max(10,12,30))\n"
   ]
  },
  {
   "cell_type": "code",
   "execution_count": 18,
   "metadata": {
    "colab": {
     "base_uri": "https://localhost:8080/",
     "height": 34
    },
    "id": "PBvBwg0O6waD",
    "outputId": "57768b69-c749-4d88-be06-7a9d41a98de2"
   },
   "outputs": [
    {
     "data": {
      "text/plain": [
       "3"
      ]
     },
     "execution_count": 18,
     "metadata": {},
     "output_type": "execute_result"
    }
   ],
   "source": [
    "# Write a function, is_vowel that returns the value true if a given character is a vowel, \n",
    "# and otherwise returns false. \n",
    "def is_vowel(a):\n",
    "    if a in ['a','e','i','o','u']:\n",
    "        return True\n",
    "    else:\n",
    "        return False\n",
    "\n",
    "# is_vowel(\"o\")\n",
    "\n",
    "\n",
    "# Write another function main, in main() function accept a string from user and count number \n",
    "# of vowels in that string.\n",
    "\n",
    "\n",
    "def main(x):\n",
    "    count = 0\n",
    "    for i in x:\n",
    "        if is_vowel(i) == True:\n",
    "            count += 1\n",
    "    return count\n",
    "\n",
    "main('seema')"
   ]
  },
  {
   "cell_type": "code",
   "execution_count": 19,
   "metadata": {},
   "outputs": [
    {
     "name": "stdout",
     "output_type": "stream",
     "text": [
      "False\n",
      "[2, 3, 5, 7, 11, 13, 17, 19, 23, 29, 31, 37, 41, 43, 47, 53, 59, 61, 67, 71, 73, 79, 83, 89, 97, 101, 103, 107, 109, 113, 127, 131, 137, 139, 149, 151, 157, 163, 167, 173, 179, 181, 191, 193, 197, 199, 211, 223, 227, 229, 233, 239, 241, 251, 257, 263, 269, 271, 277, 281, 283, 293, 307, 311, 313, 317, 331, 337, 347, 349, 353, 359, 367, 373, 379, 383, 389, 397, 401, 409, 419, 421, 431, 433, 439, 443, 449, 457, 461, 463, 467, 479, 487, 491, 499]\n"
     ]
    }
   ],
   "source": [
    "# Write a function named is_prime, which takes an integer as an argument and returns true \n",
    "# if the argument is a prime number, or false otherwise. \n",
    "\n",
    "def is_prime(x):\n",
    "    if x > 1 :\n",
    "        for i in range(2,x):\n",
    "            v = x % i \n",
    "            if v  == 0:\n",
    "                return False\n",
    "        else:\n",
    "            return True\n",
    "    else:\n",
    "        return False\n",
    "        \n",
    "print(is_prime(498))\n",
    "\n",
    "# Also, write the main function that displays prime numbers between 1 to 500.\n",
    "\n",
    "def main(x):\n",
    "    new = []\n",
    "    for i in range(1,x):\n",
    "        if is_prime(i) :\n",
    "            new.append(i)\n",
    "    return new\n",
    "    \n",
    "print(main(500))"
   ]
  },
  {
   "cell_type": "code",
   "execution_count": 20,
   "metadata": {},
   "outputs": [
    {
     "name": "stdout",
     "output_type": "stream",
     "text": [
      "134\n"
     ]
    },
    {
     "data": {
      "text/plain": [
       "134"
      ]
     },
     "execution_count": 20,
     "metadata": {},
     "output_type": "execute_result"
    }
   ],
   "source": [
    "# Write a function in python to find the sum of the cube of elements in a list. \n",
    "# The list is received as an argument to the function, in turn, the function must return the sum. \n",
    "\n",
    "def cube(lst):\n",
    "    return sum([(i**3) for i in lst])\n",
    "\n",
    "\n",
    "print(cube([1,2,5]))\n",
    "\n",
    "\n",
    "# Write the main function which invokes the above function.\n",
    "\n",
    "\n",
    "\n",
    "\n",
    "def main(lst):\n",
    "    return cube(lst)\n",
    "    \n",
    "main([1,2,5])"
   ]
  },
  {
   "cell_type": "code",
   "execution_count": 21,
   "metadata": {},
   "outputs": [
    {
     "data": {
      "text/plain": [
       "600"
      ]
     },
     "execution_count": 21,
     "metadata": {},
     "output_type": "execute_result"
    }
   ],
   "source": [
    "# Write the definition of a function zero_ending(scores) to add all those values in the list of scores, \n",
    "# which are ending with zero and display the sum.\n",
    "# For example: If the scores contain [200, 456, 300, 100, 234, 678] The sum should be displayed as 600\n",
    "\n",
    "\n",
    "def zero_ending(scores):\n",
    "    add = 0\n",
    "    for i in range(len(scores)):\n",
    "        if scores[i] % 10 == 0:\n",
    "            add += scores[i]\n",
    "        else:\n",
    "            add\n",
    "    return add\n",
    "\n",
    "\n",
    "zero_ending([200, 456, 300, 100, 234, 678])"
   ]
  },
  {
   "cell_type": "code",
   "execution_count": 22,
   "metadata": {},
   "outputs": [
    {
     "data": {
      "text/plain": [
       "['LONDON', 'NEW YORK']"
      ]
     },
     "execution_count": 22,
     "metadata": {},
     "output_type": "execute_result"
    }
   ],
   "source": [
    "# Write a definition of a method count_now(places) to find and display those place names, \n",
    "# in which there are more than 5 characters.\n",
    "\n",
    "# For example :\n",
    "# If the list places contains\n",
    "# [\"DELHI\",\"LONDON\",\"PARIS\",\"NEW YORK\",\"DUBAI\"]\n",
    "# The following should get displayed :\n",
    "# LONDON\n",
    "# NEW YORK\n",
    "\n",
    "\n",
    "def count_now(lst):\n",
    "    new = []\n",
    "    for i in lst:\n",
    "        if len(i) > 5:\n",
    "            new.append(i)\n",
    "    return new\n",
    "\n",
    "count_now([\"DELHI\",\"LONDON\",\"PARIS\",\"NEW YORK\",\"DUBAI\"])            "
   ]
  },
  {
   "cell_type": "code",
   "execution_count": 23,
   "metadata": {},
   "outputs": [
    {
     "data": {
      "text/plain": [
       "['414141', 'DROND#', 'GIRIRAJ#', '131313', 'ZARA#']"
      ]
     },
     "execution_count": 23,
     "metadata": {},
     "output_type": "execute_result"
    }
   ],
   "source": [
    "# Write a method in python to display the elements of list thrice if it is a number and display \n",
    "# the element terminated with ‘#’ if it is not a number.\n",
    "\n",
    "# For example, if the content of list is as follows :\n",
    "# ThisList=[‘41’,‘DROND’,‘GIRIRAJ’, ‘13’,‘ZARA’]\n",
    "# The output should be\n",
    "# 414141\n",
    "# DROND#\n",
    "# GIRIRAJ#\n",
    "# 131313\n",
    "# ZARA#\n",
    "\n",
    "def fun(lst):\n",
    "    \n",
    "    for i in range(len(lst)):\n",
    "        \n",
    "        if lst[i].isalpha():\n",
    "            yield f'{lst[i]}#'\n",
    "        else:\n",
    "            yield lst[i]*3\n",
    "        \n",
    "a = list(fun(['41','DROND','GIRIRAJ', '13','ZARA']))\n",
    "a"
   ]
  },
  {
   "cell_type": "code",
   "execution_count": 24,
   "metadata": {},
   "outputs": [
    {
     "name": "stdout",
     "output_type": "stream",
     "text": [
      "2\n",
      "1\n",
      "0\n"
     ]
    },
    {
     "ename": "IndexError",
     "evalue": "list index out of range",
     "output_type": "error",
     "traceback": [
      "\u001b[1;31m---------------------------------------------------------------------------\u001b[0m",
      "\u001b[1;31mIndexError\u001b[0m                                Traceback (most recent call last)",
      "Cell \u001b[1;32mIn[24], line 20\u001b[0m\n\u001b[0;32m     17\u001b[0m         binarySearch(lst[mid\u001b[38;5;241m+\u001b[39m\u001b[38;5;241m1\u001b[39m:],x)\n\u001b[0;32m     18\u001b[0m         \u001b[38;5;28;01mreturn\u001b[39;00m  \u001b[38;5;28mprint\u001b[39m(\u001b[38;5;124m'\u001b[39m\u001b[38;5;124mpresent\u001b[39m\u001b[38;5;124m'\u001b[39m)\n\u001b[1;32m---> 20\u001b[0m \u001b[38;5;28mprint\u001b[39m(binarySearch([\u001b[38;5;241m40\u001b[39m,\u001b[38;5;241m20\u001b[39m,\u001b[38;5;241m15\u001b[39m,\u001b[38;5;241m10\u001b[39m,\u001b[38;5;241m5\u001b[39m],\u001b[38;5;241m10\u001b[39m))\n",
      "Cell \u001b[1;32mIn[24], line 17\u001b[0m, in \u001b[0;36mbinarySearch\u001b[1;34m(lst, x)\u001b[0m\n\u001b[0;32m     14\u001b[0m     \u001b[38;5;28;01mreturn\u001b[39;00m \u001b[38;5;28mprint\u001b[39m(\u001b[38;5;124m'\u001b[39m\u001b[38;5;124mpresent\u001b[39m\u001b[38;5;124m'\u001b[39m)\n\u001b[0;32m     16\u001b[0m \u001b[38;5;28;01melse\u001b[39;00m:\n\u001b[1;32m---> 17\u001b[0m     binarySearch(lst[mid\u001b[38;5;241m+\u001b[39m\u001b[38;5;241m1\u001b[39m:],x)\n\u001b[0;32m     18\u001b[0m     \u001b[38;5;28;01mreturn\u001b[39;00m  \u001b[38;5;28mprint\u001b[39m(\u001b[38;5;124m'\u001b[39m\u001b[38;5;124mpresent\u001b[39m\u001b[38;5;124m'\u001b[39m)\n",
      "Cell \u001b[1;32mIn[24], line 17\u001b[0m, in \u001b[0;36mbinarySearch\u001b[1;34m(lst, x)\u001b[0m\n\u001b[0;32m     14\u001b[0m     \u001b[38;5;28;01mreturn\u001b[39;00m \u001b[38;5;28mprint\u001b[39m(\u001b[38;5;124m'\u001b[39m\u001b[38;5;124mpresent\u001b[39m\u001b[38;5;124m'\u001b[39m)\n\u001b[0;32m     16\u001b[0m \u001b[38;5;28;01melse\u001b[39;00m:\n\u001b[1;32m---> 17\u001b[0m     binarySearch(lst[mid\u001b[38;5;241m+\u001b[39m\u001b[38;5;241m1\u001b[39m:],x)\n\u001b[0;32m     18\u001b[0m     \u001b[38;5;28;01mreturn\u001b[39;00m  \u001b[38;5;28mprint\u001b[39m(\u001b[38;5;124m'\u001b[39m\u001b[38;5;124mpresent\u001b[39m\u001b[38;5;124m'\u001b[39m)\n",
      "Cell \u001b[1;32mIn[24], line 9\u001b[0m, in \u001b[0;36mbinarySearch\u001b[1;34m(lst, x)\u001b[0m\n\u001b[0;32m      7\u001b[0m mid \u001b[38;5;241m=\u001b[39m \u001b[38;5;28mlen\u001b[39m(lst) \u001b[38;5;241m/\u001b[39m\u001b[38;5;241m/\u001b[39m \u001b[38;5;241m2\u001b[39m\n\u001b[0;32m      8\u001b[0m \u001b[38;5;28mprint\u001b[39m(mid)\n\u001b[1;32m----> 9\u001b[0m \u001b[38;5;28;01mif\u001b[39;00m lst[mid] \u001b[38;5;241m==\u001b[39m x:\n\u001b[0;32m     10\u001b[0m     \u001b[38;5;28;01mreturn\u001b[39;00m mid\n\u001b[0;32m     12\u001b[0m \u001b[38;5;28;01mif\u001b[39;00m lst[mid\u001b[38;5;241m-\u001b[39m\u001b[38;5;241m1\u001b[39m] \u001b[38;5;241m<\u001b[39m x :\n",
      "\u001b[1;31mIndexError\u001b[0m: list index out of range"
     ]
    }
   ],
   "source": [
    "# For a given list of values in descending order, write a method in python to search \n",
    "# for a value with the help of Binary Search method. \n",
    "# The method should return position of the value and should return -1 if the value not present in the list.\n",
    "\n",
    "def binarySearch(lst,x):\n",
    "    \n",
    "    mid = len(lst) // 2\n",
    "    print(mid)\n",
    "    if lst[mid] == x:\n",
    "        return mid\n",
    "\n",
    "    if lst[mid-1] < x :\n",
    "        binarySearch(lst[:mid],x)\n",
    "        return print('present')\n",
    "    \n",
    "    else:\n",
    "        binarySearch(lst[mid+1:],x)\n",
    "        return  print('present')\n",
    "             \n",
    "print(binarySearch([40,20,15,10,5],10))\n",
    "             \n",
    "        \n"
   ]
  },
  {
   "cell_type": "code",
   "execution_count": null,
   "metadata": {},
   "outputs": [
    {
     "name": "stdout",
     "output_type": "stream",
     "text": [
      "[40, 50, 60, 10, 20, 30]\n",
      "[50, 60, 70, 40, 10, 20, 30]\n"
     ]
    }
   ],
   "source": [
    "# Write a function half_and_half that takes in a list and change the list \n",
    "# such that the elements of the second half are now in the first half.\n",
    "\n",
    "# For example, if the size of list is even and content of list is as follows :\n",
    "# my_liist = [10,20,30,40,50,60]\n",
    "# The output should be\n",
    "# [40,50,60,10,20,30]\n",
    "# if the size of list is odd and content of list is as follows :\n",
    "# my_liist = [10,20,30,40,50,60,70]\n",
    "# The output should be\n",
    "# [50,60,70,40,10,20,30]\n",
    "\n",
    "\n",
    "\n",
    "def half_and_half(lst):\n",
    "    new = []\n",
    "    if len(lst) %2 == 0:\n",
    "        n = int(len(lst)/2)\n",
    "        n = int((len(lst)-1)/2)\n",
    "        for i in range(n+1,len(lst)):\n",
    "            new.append(lst[i])\n",
    "        for i in range(n+1):\n",
    "            new.append(lst[i])\n",
    "        return new\n",
    "    else:\n",
    "        n = int((len(lst)-1)/2)\n",
    "        for i in range(n+1,len(lst)):\n",
    "            new.append(lst[i])\n",
    "        new.append(lst[n])\n",
    "        for i in range(n):\n",
    "            new.append(lst[i])\n",
    "#             print(n)\n",
    "        return new\n",
    "    \n",
    "    \n",
    "print(half_and_half([10,20,30,40,50,60]))\n",
    "print(half_and_half([10,20,30,40,50,60,70]))"
   ]
  },
  {
   "cell_type": "code",
   "execution_count": null,
   "metadata": {
    "ExecuteTime": {
     "end_time": "2021-05-29T10:39:43.694779Z",
     "start_time": "2021-05-29T10:39:43.691446Z"
    }
   },
   "outputs": [
    {
     "name": "stdout",
     "output_type": "stream",
     "text": [
      "{5: 1, 4: 2, 8: 3}\n",
      "{}\n"
     ]
    }
   ],
   "source": [
    "# Write a function that accepts a dictionary as an argument. If the dictionary contains replicate values, \n",
    "# return an empty dictionary, otherwise, return a new dictionary whose values are now the keys and whose \n",
    "# keys are the values.\n",
    "\n",
    "\n",
    "def dic(dics):\n",
    "    new = {}\n",
    "    values = list(dics.values())\n",
    "    for i in range(len(values)):\n",
    "        if i in values:\n",
    "            return {}\n",
    "    else:\n",
    "        for k,v in dics.items():\n",
    "            val = {v:k}\n",
    "            new.update(val)\n",
    "    return new\n",
    "            \n",
    "print(dic({1:5,2:4,3:8}))\n",
    "print(dic({1:2,2:4,3:8}))\n"
   ]
  }
 ],
 "metadata": {
  "colab": {
   "name": "Function_Assignment.ipynb",
   "provenance": []
  },
  "kernelspec": {
   "display_name": "pyspark-env",
   "language": "python",
   "name": "python3"
  },
  "language_info": {
   "codemirror_mode": {
    "name": "ipython",
    "version": 3
   },
   "file_extension": ".py",
   "mimetype": "text/x-python",
   "name": "python",
   "nbconvert_exporter": "python",
   "pygments_lexer": "ipython3",
   "version": "3.12.3"
  }
 },
 "nbformat": 4,
 "nbformat_minor": 1
}

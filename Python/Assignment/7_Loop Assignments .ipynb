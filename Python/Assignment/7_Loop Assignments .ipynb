{
 "cells": [
  {
   "cell_type": "markdown",
   "metadata": {},
   "source": [
    "   <h3 style = \"color : Greay\">\n",
    "<Br> Name  - Ritu Prajapati\n",
    "<Br> Batch - 22 Dec 2024\n",
    "<Br> Email - rituprajapatti0507@gmail.com"
   ]
  },
  {
   "cell_type": "markdown",
   "metadata": {},
   "source": [
    "## Loop Assignment"
   ]
  },
  {
   "cell_type": "code",
   "execution_count": 1,
   "metadata": {},
   "outputs": [
    {
     "name": "stdout",
     "output_type": "stream",
     "text": [
      "Output Number : one\n"
     ]
    }
   ],
   "source": [
    "# Q. W. A P. which takes one number from 0 to 9 from the user and prints\n",
    "# it in the word. And if the word is not from 0 to 9 then\n",
    "# it should print that number is outside of the range and program should\n",
    "# exit.\n",
    "# For exapmple:-\n",
    "# input = 1\n",
    "# output = one\n",
    "\n",
    "# initial = int(input())\n",
    "initial = 1\n",
    "\n",
    "val = [0,1,2,3,4,5,6,7,8,9]\n",
    "out = ['Zero','one','two','three','four','five','six','seven','eight','nine']\n",
    "if initial in val:\n",
    "    for i in range(len(val)):\n",
    "        if initial == val[i]:\n",
    "            print('Output Number : ' + out[i])\n",
    "else:\n",
    "    print(' number is outside of the range')\n",
    "        "
   ]
  },
  {
   "cell_type": "code",
   "execution_count": 2,
   "metadata": {},
   "outputs": [
    {
     "name": "stdout",
     "output_type": "stream",
     "text": [
      "Please select any one operation from below:-   \n",
      " * To add enter 1 \n",
      " * to subtract enter 2 \n",
      " * To multiply enter 3 \n",
      " * To divide enter 4  \n",
      " * To divide and find quotient enter 5 \n",
      " * To divide and find remainder enter 6 \n",
      " * To divide and find num1 to the power of num2 enter 7 \n",
      " * To Come out of the program enter 8 \n"
     ]
    }
   ],
   "source": [
    "# . W. A P. to implement calculator but the operation to be done and two\n",
    "# numbers will be taken as input from user:-\n",
    "# Operation console should show below:-\n",
    "#  Please select any one operation from below:-\n",
    "#  * To add enter 1\n",
    "#  * to subtract enter 2\n",
    "#  * To multiply enter 3\n",
    "#  * To divide enter 4\n",
    "#  * To divide and find quotient enter 5\n",
    "#  * To divide and find remainder enter 6\n",
    "#  * To divide and find num1 to the power of num2 enter 7\n",
    "#  * To Come out of the program enter 8\n",
    "\n",
    "# a = int(input(\"Enter First number: \"))\n",
    "# b = int(input(\"Enter Second number: \"))\n",
    "a = 7\n",
    "b = 5\n",
    "\n",
    "while True:\n",
    "    \n",
    "    print('Please select any one operation from below:-   \\n * To add enter 1 \\n * to subtract enter 2 \\n * To multiply enter 3 \\n * To divide enter 4  \\n * To divide and find quotient enter 5 \\n * To divide and find remainder enter 6 \\n * To divide and find num1 to the power of num2 enter 7 \\n * To Come out of the program enter 8 ')\n",
    "\n",
    "    # op = int(input())\n",
    "    \n",
    "    op = 8\n",
    "\n",
    "    if op == 1:\n",
    "        print('Sum of two number : ' + str(a+b))\n",
    "    elif op == 2:\n",
    "        print('Substraction of two number : ' + str(a-b))\n",
    "    elif op == 3:\n",
    "            print('Multiply of two number : ' + str(a*b))\n",
    "    elif op == 4:\n",
    "        print('Division of two number : ' + str(a/b))\n",
    "    elif op == 5:\n",
    "        print('Division of two number : ' + str(a/b) + 'and  its quotient : ' + str(a//b))\n",
    "    elif op == 6:\n",
    "        print('Division of two number : ' + str(a/b) + 'and  its remainder : ' + str(a%b))\n",
    "    elif op == 7:\n",
    "        print('Division of two number : ' + str(a/b )+ 'and  its power : ' + str(a**b))\n",
    "    elif op == 8:\n",
    "        break\n",
    "\n",
    "\n"
   ]
  },
  {
   "cell_type": "code",
   "execution_count": 3,
   "metadata": {},
   "outputs": [
    {
     "name": "stdout",
     "output_type": "stream",
     "text": [
      " is a leap year 1200\n"
     ]
    }
   ],
   "source": [
    "# Q. W A P to check whether a year entered by user is an leap year or not?\n",
    "# Check with below input:-\n",
    "#  leap year:- 2012, 1968, 2004, 1200, 1600,2400\n",
    "#  Non-lear year:- 1971, 2006, 1700,1800,1900\n",
    "\n",
    "\n",
    "# year = int(input())\n",
    "year = 1200\n",
    "\n",
    "\n",
    "if (year % 4) == 0:  \n",
    "    if (year % 100) == 0:  \n",
    "        if (year % 400) == 0:  \n",
    "            print(\" is a leap year\" ,year) \n",
    "        else:  \n",
    "                print(\" is not a leap year\" , year )  \n",
    "    else:  \n",
    "        print(\"is a leap year\" , year)  \n",
    "else:  \n",
    "    print(\" is not a leap year\" ,year  )"
   ]
  },
  {
   "cell_type": "code",
   "execution_count": 4,
   "metadata": {},
   "outputs": [
    {
     "name": "stdout",
     "output_type": "stream",
     "text": [
      "Number is Odd\n"
     ]
    }
   ],
   "source": [
    "# Q. W A P which takes one number from the user and checks whether it is\n",
    "# an even or odd number?, If it even then prints number is\n",
    "# even number else prints that number is odd number.\n",
    "\n",
    "# num = int(input())\n",
    "num = 51\n",
    "\n",
    "if num % 2 == 0 :\n",
    "    print('Number is Even')\n",
    "else :\n",
    "    print('Number is Odd')\n"
   ]
  },
  {
   "cell_type": "code",
   "execution_count": 5,
   "metadata": {},
   "outputs": [
    {
     "name": "stdout",
     "output_type": "stream",
     "text": [
      "num1 is greater than num2\n"
     ]
    }
   ],
   "source": [
    "# Q. W A P which takes two numbers from the user and prints below output:-\n",
    "#  1. num1 is greater than num2 if num1 is greater than num2\n",
    "#  2. num1 is smaller than num2 if num1 is smaller than num2\n",
    "#  3. num1 is equal to num2 if num1 and num2 are equal\n",
    "\n",
    "# Note:- 1. Do this problem using if - else\n",
    "#  2. Do this using ternary operator\n",
    "\n",
    "# a = int(input())\n",
    "\n",
    "# b = int(input())\n",
    "\n",
    "a = 7\n",
    "b = 5\n",
    "\n",
    "\n",
    "print(\"num1 is greater than num2\") if a > b else print('num1 is equal to num2') if a == b else print('num1 is smaller than num2 ')\n"
   ]
  },
  {
   "cell_type": "code",
   "execution_count": 6,
   "metadata": {},
   "outputs": [
    {
     "name": "stdout",
     "output_type": "stream",
     "text": [
      "num1 is greater than num2 and num3\n"
     ]
    }
   ],
   "source": [
    "# Q. W A P which takes three numbers from the user and prints below\n",
    "# output:-\n",
    "#  1. num1 is greater than num2 and num3 if num1 is greater than num2\n",
    "# and num3\n",
    "#  2. num2 is greater than num1 and num3 if num2 is greater than num1\n",
    "# and num3 \n",
    "#3. num3 is greater than num1 and num2 if num3 is greater than num1\n",
    "# and num2\n",
    "# Note:- 1. Do this problem using if - elif - else\n",
    "#  2. Do this using ternary operator\n",
    "# a = a if a>b else b\n",
    "\n",
    "# a = int(input(\"num 1 : \"))\n",
    "# b = int(input(\"num 2 : \"))\n",
    "# c = int(input(\"num 3 : \"))\n",
    "\n",
    "a = 7\n",
    "b = 5\n",
    "c = 6\n",
    "\n",
    "print(\"num1 is greater than num2 and num3\") if a > b and a > c else print(\"num2 is greater than num1 and num3\") if b > c and b > a else print(\"num3 is greater than num1 and num2\")"
   ]
  },
  {
   "cell_type": "markdown",
   "metadata": {},
   "source": [
    "### Loops - for loop, while loop"
   ]
  },
  {
   "cell_type": "code",
   "execution_count": 7,
   "metadata": {},
   "outputs": [
    {
     "name": "stdout",
     "output_type": "stream",
     "text": [
      "55\n"
     ]
    }
   ],
   "source": [
    "# Q. Write a Python program to find the length of the my_str using loop:-\n",
    "# Input:- 'Write a Python program to find the length of the my_str'\n",
    "# Output:- 55\n",
    "\n",
    "initial = 'Write a Python program to find the length of the my_str'\n",
    "count = 0\n",
    "for i in range(len(initial)):\n",
    "    count += 1\n",
    "print(count)\n",
    "    "
   ]
  },
  {
   "cell_type": "code",
   "execution_count": 8,
   "metadata": {},
   "outputs": [
    {
     "name": "stdout",
     "output_type": "stream",
     "text": [
      "9\n"
     ]
    }
   ],
   "source": [
    "# Q. Write a Python program to find the total number of times letter 'p'\n",
    "# is appeared in the below string using loop:-\n",
    "# Input:- 'peter piper picked a peck of pickled peppers.\\n'\n",
    "# Output:- 9\n",
    "\n",
    "initial = 'peter piper picked a peck of pickled peppers.\\n'\n",
    "count = 0\n",
    "for i in range(len(initial)):\n",
    "    if initial[i] == 'p':\n",
    "        count += 1\n",
    "print(count)\n",
    "    "
   ]
  },
  {
   "cell_type": "code",
   "execution_count": 9,
   "metadata": {},
   "outputs": [
    {
     "name": "stdout",
     "output_type": "stream",
     "text": [
      "0\n",
      "6\n",
      "8\n",
      "12\n",
      "21\n",
      "29\n",
      "37\n",
      "39\n",
      "40\n"
     ]
    }
   ],
   "source": [
    "# Q. Write a Python Program, to print all the indexes of all occurences of\n",
    "# letter 'p' appeared in the string using loop:-\n",
    "# Input:- 'peter piper picked a peck of pickled peppers.'\n",
    "# Output:-\n",
    "# 0\n",
    "# 6\n",
    "# 8\n",
    "# 12\n",
    "# 21\n",
    "# 29\n",
    "# 37\n",
    "# 39\n",
    "# 40\n",
    "\n",
    "initial = 'peter piper picked a peck of pickled peppers.'\n",
    "for i in range(len(initial)):\n",
    "    if initial[i] == 'p':\n",
    "        print(i)\n",
    "        "
   ]
  },
  {
   "cell_type": "code",
   "execution_count": 10,
   "metadata": {},
   "outputs": [
    {
     "name": "stdout",
     "output_type": "stream",
     "text": [
      "['peter', 'piper', 'picked', 'a', 'peck', 'of', 'pickled', 'peppers.']\n"
     ]
    }
   ],
   "source": [
    "# Q. Write a python program to find below output using loop:-\n",
    "# Input:- 'peter piper picked a peck of pickled peppers.'\n",
    "# Output:- ['peter', 'piper', 'picked', 'a', 'peck', 'of', 'pickled','peppers']\n",
    "\n",
    "initial = 'peter piper picked a peck of pickled peppers.'\n",
    "final = []\n",
    "start_index = 0\n",
    "for i in range(len(initial)):\n",
    "    if initial[i] == ' ':\n",
    "        end_index = i\n",
    "        word = initial[start_index:end_index]\n",
    "        final.append(word)\n",
    "        start_index = i+1\n",
    "        \n",
    "end_index = len(initial)\n",
    "word = initial[start_index:end_index]\n",
    "final.append(word)\n",
    "\n",
    "print(final)\n",
    "        "
   ]
  },
  {
   "cell_type": "code",
   "execution_count": 11,
   "metadata": {},
   "outputs": [
    {
     "name": "stdout",
     "output_type": "stream",
     "text": [
      "pepper pickled of peck a picked piper peter\n"
     ]
    }
   ],
   "source": [
    "# Q. Write a python program to find below output using loop:-\n",
    "# Input:- 'peter piper picked a peck of pickled peppers.'\n",
    "# Output:- 'peppers pickled of peck a picked piper peter'\n",
    "\n",
    "\n",
    "initial = 'peter piper picked a peck of pickled peppers'\n",
    "final = []\n",
    "start_index = 0\n",
    "for i in range(len(initial)):\n",
    "    if initial[i] == ' ':\n",
    "        end_index = i\n",
    "        word = initial[start_index:end_index]\n",
    "        final.append(word)\n",
    "        start_index = i+1\n",
    "        \n",
    "end_index = len(initial)-1\n",
    "word = initial[start_index:end_index]\n",
    "final.append(word)\n",
    "\n",
    "print(\" \".join(final[::-1]))\n",
    "\n"
   ]
  },
  {
   "cell_type": "code",
   "execution_count": 12,
   "metadata": {},
   "outputs": [
    {
     "name": "stdout",
     "output_type": "stream",
     "text": [
      ".sreppep delkcip fo kcep a dekcip repip retep\n"
     ]
    }
   ],
   "source": [
    "# Q. Write a python program to find below output using loop:-\n",
    "# Input:- 'peter piper picked a peck of pickled peppers.'\n",
    "# Output:- '.sreppep delkcip fo kcep a dekcip repip retep'\n",
    "\n",
    "\n",
    "initial = 'peter piper picked a peck of pickled peppers.'\n",
    "initial = initial[::-1]\n",
    "final = []\n",
    "start_index = 0\n",
    "for i in range(len(initial)):\n",
    "    if initial[i] == ' ':\n",
    "        end_index = i\n",
    "        word = initial[start_index:end_index]\n",
    "        final.append(word)\n",
    "        start_index = i+1\n",
    "        \n",
    "end_index = len(initial)\n",
    "word = initial[start_index:end_index]\n",
    "final.append(word)\n",
    "\n",
    "print(\" \".join(final))\n",
    "\n"
   ]
  },
  {
   "cell_type": "code",
   "execution_count": 13,
   "metadata": {},
   "outputs": [
    {
     "name": "stdout",
     "output_type": "stream",
     "text": [
      "retep repip dekcip a kcep fo delkcip sreppep\n"
     ]
    }
   ],
   "source": [
    "# Q. Write a python program to find below output using loop:-\n",
    "# Input:- 'peter piper picked a peck of pickled peppers.'\n",
    "# Output:- 'retep repip dekcip a kcep fo delkcip sreppep'\n",
    "\n",
    "initial = 'peter piper picked a peck of pickled peppers'\n",
    "initial = initial[::-1]\n",
    "final = []\n",
    "start_index = 0\n",
    "for i in range(len(initial)):\n",
    "    if initial[i] == ' ':\n",
    "        end_index = i\n",
    "        word = initial[start_index:end_index]\n",
    "        final.append(word)\n",
    "        start_index = i+1\n",
    "        \n",
    "end_index = len(initial)\n",
    "word = initial[start_index:end_index]\n",
    "final.append(word)\n",
    "\n",
    "print(\" \".join(final[::-1]))\n"
   ]
  },
  {
   "cell_type": "code",
   "execution_count": 14,
   "metadata": {},
   "outputs": [
    {
     "name": "stdout",
     "output_type": "stream",
     "text": [
      "Peter Piper Picked A Peck Of Pickled Peppers.\n"
     ]
    }
   ],
   "source": [
    "# Q. Write a python program to find below output using loop:-\n",
    "# Input:- 'peter piper picked a peck of pickled peppers.'\n",
    "# Output:- 'Peter Piper Picked A Peck Of Pickled Peppers'\n",
    "\n",
    "\n",
    "initial = 'peter piper picked a peck of pickled peppers.'\n",
    "final = []\n",
    "start_index = 0\n",
    "for i in range(len(initial)):\n",
    "    if initial[i] == ' ':\n",
    "        end_index = i\n",
    "        word = initial[start_index:end_index]\n",
    "        final.append(word)\n",
    "        start_index = i+1\n",
    "        \n",
    "end_index = len(initial)\n",
    "word = initial[start_index:end_index]\n",
    "final.append(word)\n",
    "\n",
    "string = \" \".join(final)\n",
    "print(string.title())"
   ]
  },
  {
   "cell_type": "code",
   "execution_count": 15,
   "metadata": {},
   "outputs": [
    {
     "name": "stdout",
     "output_type": "stream",
     "text": [
      "Peter piper picked a peck of pickled peppers.\n"
     ]
    }
   ],
   "source": [
    "# Q. Write a python program to find below output using loop:-\n",
    "# Input:- 'Peter Piper Picked A Peck Of Pickled Peppers.'\n",
    "# Output:- 'Peter piper picked a peck of pickled peppers'\n",
    "\n",
    "\n",
    "initial = 'peter piper picked a peck of pickled peppers.'\n",
    "final = []\n",
    "start_index = 0\n",
    "for i in range(len(initial)):\n",
    "    if initial[i] == ' ':\n",
    "        end_index = i\n",
    "        word = initial[start_index:end_index]\n",
    "        final.append(word)\n",
    "        start_index = i+1\n",
    "        \n",
    "end_index = len(initial)\n",
    "word = initial[start_index:end_index]\n",
    "final.append(word)\n",
    "\n",
    "string = \" \".join(final)\n",
    "print(string.capitalize())"
   ]
  },
  {
   "cell_type": "code",
   "execution_count": 16,
   "metadata": {},
   "outputs": [
    {
     "name": "stdout",
     "output_type": "stream",
     "text": [
      "29\n"
     ]
    }
   ],
   "source": [
    "# Q. Write a python program to implement index method using loop. If\n",
    "# sub_str is found in my_str then it will print the index\n",
    "# of first occurrence of first character of matching string in my_str:-\n",
    "# Input:- my_str = 'Peter Piper Picked A Peck Of Pickled Peppers.',\n",
    "# sub_str = 'Pickl'\n",
    "# Output:- 29\n",
    "\n",
    "initial = 'Peter Piper Picked A Peck Of Pickled Peppers.'\n",
    "sub_str = 'Pickl'\n",
    "\n",
    "for i in range(len(initial)):\n",
    "    start_index = i\n",
    "    end_index = start_index + len(sub_str)\n",
    "    if initial[start_index:end_index] == sub_str :\n",
    "        print(i)\n",
    "        \n"
   ]
  },
  {
   "cell_type": "code",
   "execution_count": 17,
   "metadata": {},
   "outputs": [
    {
     "name": "stdout",
     "output_type": "stream",
     "text": [
      "Peter Piper Picked A Pack Of Pickled Peppers.\n"
     ]
    }
   ],
   "source": [
    "# Q. Write a python program to implement replace method using loop. If\n",
    "# sub_str is found in my_str then it will replace the first\n",
    "# occurrence of sub_str with new_str else it will will print sub_str not\n",
    "# found:-\n",
    "# Input:- my_str = 'Peter Piper Picked A Peck Of Pickled Peppers.',\n",
    "# sub_str = 'Peck', new_str = 'Pack'\n",
    "# Output:- 'Peter Piper Picked A Pack Of Pickled Peppers.'\n",
    "\n",
    "initial = 'Peter Piper Picked A Peck Of Pickled Peppers.'\n",
    "sub_str = 'Peck'\n",
    "new_str = 'Pack'\n",
    "\n",
    "for i in range(len(initial)):\n",
    "    start_index = i\n",
    "    end_index = start_index + len(sub_str)\n",
    "    if initial[start_index:end_index] == sub_str :\n",
    "        val = initial.replace(sub_str , new_str)\n",
    "      \n",
    "print(val)"
   ]
  },
  {
   "cell_type": "code",
   "execution_count": 18,
   "metadata": {},
   "outputs": [
    {
     "name": "stdout",
     "output_type": "stream",
     "text": [
      "*********************Peck********************\n"
     ]
    }
   ],
   "source": [
    "# Q. Write a python program to find below output (implements rjust and\n",
    "# ljust) using loop:-\n",
    "# Input:- 'Peter Piper Picked A Peck Of Pickled Peppers.', sub_str =\n",
    "# 'Peck',\n",
    "# Output:- '*********************Peck********************'\n",
    "\n",
    "initial = 'Peter Piper Picked A Peck Of Pickled Peppers.'\n",
    "final = []\n",
    "sub_str = 'Peck'\n",
    "start_index = 0\n",
    "for i in range(len(initial)):\n",
    "    if initial[i] == ' ':\n",
    "        end_index = i\n",
    "        word = initial[start_index:end_index]\n",
    "        final.append(word)\n",
    "        start_index = i+1\n",
    "        \n",
    "end_index = len(initial)\n",
    "word = initial[start_index:end_index]\n",
    "final.append(word)\n",
    "\n",
    "my_str = ' '.join(final)\n",
    "\n",
    "if my_str.find(sub_str) != -1:\n",
    "    val1 = my_str.find(sub_str)\n",
    "    val2 = sub_str.rjust(val1+len(sub_str),'*')\n",
    "    val3 = val2.ljust(len(my_str),'*')\n",
    "print(val3)\n",
    "\n",
    "    \n",
    "\n"
   ]
  },
  {
   "cell_type": "code",
   "execution_count": 19,
   "metadata": {},
   "outputs": [
    {
     "data": {
      "text/plain": [
       "['This', ' is', 'Python class']"
      ]
     },
     "execution_count": 19,
     "metadata": {},
     "output_type": "execute_result"
    }
   ],
   "source": [
    "# Q. Write a python program to find below output using loop:-\n",
    "# Input:- 'This is Python class', sep = ' is',\n",
    "# Output:- ['This', 'is', 'Python class']\n",
    "\n",
    "\n",
    "initial = 'This is Python class'\n",
    "final = []\n",
    "sub_str = ' is'\n",
    "start_index = 0\n",
    "for i in range(len(initial)):\n",
    "    val = initial.find(' is',start_index)\n",
    "    if val != -1:\n",
    "        end_index = val\n",
    "        word = initial[start_index:end_index]\n",
    "        final.append(word)\n",
    "        start_index = val + len(sub_str) + 1\n",
    "        word = sub_str\n",
    "        final.append(word)\n",
    "\n",
    "        \n",
    "end_index = len(initial)\n",
    "word = initial[start_index:end_index]\n",
    "final.append(word)\n",
    "        \n",
    "final"
   ]
  }
 ],
 "metadata": {
  "kernelspec": {
   "display_name": "pyspark-env",
   "language": "python",
   "name": "python3"
  },
  "language_info": {
   "codemirror_mode": {
    "name": "ipython",
    "version": 3
   },
   "file_extension": ".py",
   "mimetype": "text/x-python",
   "name": "python",
   "nbconvert_exporter": "python",
   "pygments_lexer": "ipython3",
   "version": "3.12.3"
  }
 },
 "nbformat": 4,
 "nbformat_minor": 2
}

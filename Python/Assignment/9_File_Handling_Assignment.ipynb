{
  "cells": [
    {
      "cell_type": "markdown",
      "metadata": {},
      "source": [
        "   <h3 style = \"color : Greay\">\n",
        "<Br> Name  - Ritu Prajapati\n",
        "<Br> Batch - 22 Dec 2024\n",
        "<Br> Email - rituprajapatti0507@gmail.com"
      ]
    },
    {
      "cell_type": "markdown",
      "metadata": {},
      "source": [
        "### File Handling Assignment"
      ]
    },
    {
      "cell_type": "code",
      "execution_count": 1,
      "metadata": {
        "id": "N4SGx-Q6wPhH",
        "outputId": "e27e716f-5e31-4daa-80db-c0bab9f895ed"
      },
      "outputs": [
        {
          "ename": "FileNotFoundError",
          "evalue": "[Errno 2] No such file or directory: 'poem.txt'",
          "output_type": "error",
          "traceback": [
            "\u001b[1;31m---------------------------------------------------------------------------\u001b[0m",
            "\u001b[1;31mFileNotFoundError\u001b[0m                         Traceback (most recent call last)",
            "Cell \u001b[1;32mIn[1], line 9\u001b[0m\n\u001b[0;32m      7\u001b[0m         \u001b[38;5;28mprint\u001b[39m(line, end\u001b[38;5;241m=\u001b[39m\u001b[38;5;124m\"\u001b[39m\u001b[38;5;124m\"\u001b[39m)\n\u001b[0;32m      8\u001b[0m     file\u001b[38;5;241m.\u001b[39mclose()\n\u001b[1;32m----> 9\u001b[0m read_file()\n",
            "Cell \u001b[1;32mIn[1], line 5\u001b[0m, in \u001b[0;36mread_file\u001b[1;34m()\u001b[0m\n\u001b[0;32m      4\u001b[0m \u001b[38;5;28;01mdef\u001b[39;00m \u001b[38;5;21mread_file\u001b[39m():\n\u001b[1;32m----> 5\u001b[0m     file \u001b[38;5;241m=\u001b[39m \u001b[38;5;28mopen\u001b[39m(\u001b[38;5;124m\"\u001b[39m\u001b[38;5;124mpoem.txt\u001b[39m\u001b[38;5;124m\"\u001b[39m,\u001b[38;5;124m\"\u001b[39m\u001b[38;5;124mr\u001b[39m\u001b[38;5;124m\"\u001b[39m)\n\u001b[0;32m      6\u001b[0m     \u001b[38;5;28;01mfor\u001b[39;00m line \u001b[38;5;129;01min\u001b[39;00m file:\n\u001b[0;32m      7\u001b[0m         \u001b[38;5;28mprint\u001b[39m(line, end\u001b[38;5;241m=\u001b[39m\u001b[38;5;124m\"\u001b[39m\u001b[38;5;124m\"\u001b[39m)\n",
            "File \u001b[1;32mc:\\Users\\ritup\\anaconda3\\envs\\pyspark-env\\Lib\\site-packages\\IPython\\core\\interactiveshell.py:310\u001b[0m, in \u001b[0;36m_modified_open\u001b[1;34m(file, *args, **kwargs)\u001b[0m\n\u001b[0;32m    303\u001b[0m \u001b[38;5;28;01mif\u001b[39;00m file \u001b[38;5;129;01min\u001b[39;00m {\u001b[38;5;241m0\u001b[39m, \u001b[38;5;241m1\u001b[39m, \u001b[38;5;241m2\u001b[39m}:\n\u001b[0;32m    304\u001b[0m     \u001b[38;5;28;01mraise\u001b[39;00m \u001b[38;5;167;01mValueError\u001b[39;00m(\n\u001b[0;32m    305\u001b[0m         \u001b[38;5;124mf\u001b[39m\u001b[38;5;124m\"\u001b[39m\u001b[38;5;124mIPython won\u001b[39m\u001b[38;5;124m'\u001b[39m\u001b[38;5;124mt let you open fd=\u001b[39m\u001b[38;5;132;01m{\u001b[39;00mfile\u001b[38;5;132;01m}\u001b[39;00m\u001b[38;5;124m by default \u001b[39m\u001b[38;5;124m\"\u001b[39m\n\u001b[0;32m    306\u001b[0m         \u001b[38;5;124m\"\u001b[39m\u001b[38;5;124mas it is likely to crash IPython. If you know what you are doing, \u001b[39m\u001b[38;5;124m\"\u001b[39m\n\u001b[0;32m    307\u001b[0m         \u001b[38;5;124m\"\u001b[39m\u001b[38;5;124myou can use builtins\u001b[39m\u001b[38;5;124m'\u001b[39m\u001b[38;5;124m open.\u001b[39m\u001b[38;5;124m\"\u001b[39m\n\u001b[0;32m    308\u001b[0m     )\n\u001b[1;32m--> 310\u001b[0m \u001b[38;5;28;01mreturn\u001b[39;00m io_open(file, \u001b[38;5;241m*\u001b[39margs, \u001b[38;5;241m*\u001b[39m\u001b[38;5;241m*\u001b[39mkwargs)\n",
            "\u001b[1;31mFileNotFoundError\u001b[0m: [Errno 2] No such file or directory: 'poem.txt'"
          ]
        }
      ],
      "source": [
        "# Write a function in python to read the content from \n",
        "# a text file \"poem.txt\" line by line and display the same on screen.\n",
        "\n",
        "def read_file():\n",
        "    file = open(\"poem.txt\",\"r\")\n",
        "    for line in file:\n",
        "        print(line, end=\"\")\n",
        "    file.close()\n",
        "read_file()"
      ]
    },
    {
      "cell_type": "code",
      "execution_count": null,
      "metadata": {
        "id": "smSMq7zjwPhK",
        "outputId": "afa01e28-d7d5-49bb-afe7-4c7a69524d56"
      },
      "outputs": [
        {
          "name": "stdout",
          "output_type": "stream",
          "text": [
            "No of lines not starting with 'T'= 3\n"
          ]
        }
      ],
      "source": [
        "# Write a function in python to count the number of lines \n",
        "# from a text file \"story.txt\" which is not starting with an alphabet \"T\". \n",
        "\n",
        "# Example: If the file \"story.txt\" contains the following lines: A boy is playing there.\n",
        "# There is a playground.\n",
        "# An aeroplane is in the sky.\n",
        "# The sky is pink.\n",
        "# Alphabets and numbers are allowed in the password.\n",
        "# The function should display the output as 3\n",
        "\n",
        "def line_count():\n",
        "    file = open(\"story.txt\",\"r\")\n",
        "    count=0\n",
        "    for line in file:\n",
        "        if line[0] not in 'T':\n",
        "            count+= 1\n",
        "    file.close()\n",
        "    print(\"No of lines not starting with 'T'=\",count)\n",
        "\n",
        "line_count()"
      ]
    },
    {
      "cell_type": "code",
      "execution_count": null,
      "metadata": {
        "id": "PY4P9bvUwPhL",
        "outputId": "0c1be7c5-7916-4c24-e559-5b293c2d0f15"
      },
      "outputs": [
        {
          "name": "stdout",
          "output_type": "stream",
          "text": [
            "Total words are 51\n"
          ]
        }
      ],
      "source": [
        "# Write a function in Python to count and display the total number of words in a text file.\n",
        "\n",
        "def count_words():\n",
        "    file = open(\"notes.txt\",\"r\")\n",
        "    count = 0\n",
        "    data = file.read()\n",
        "    words = data.split()\n",
        "    for word in words:\n",
        "        count += 1\n",
        "    print(\"Total words are\",count)\n",
        "    file.close()\n",
        "\n",
        "count_words()"
      ]
    },
    {
      "cell_type": "code",
      "execution_count": null,
      "metadata": {
        "id": "zkXm_u_uwPhM",
        "outputId": "6fbe1bff-bd9c-4e25-cd5b-d48768d3c85b"
      },
      "outputs": [
        {
          "name": "stdout",
          "output_type": "stream",
          "text": [
            "5\n"
          ]
        }
      ],
      "source": [
        "# Write a function in Python to read lines from a text file \"notes.txt\". \n",
        "# Your function should find and display the occurrence of the word \"the\".\n",
        "\n",
        "# For example: If the content of the file is:\n",
        "# \"India is the fastest-growing economy. India is looking for more investments around the globe. The whole world is looking at India as a great market. Most of the Indians can foresee the heights that India is capable of reaching.\"\n",
        "\n",
        "# The output should be 5.\n",
        "\n",
        "def count_words():\n",
        "    file = open(\"notes_1.txt\",\"r\")\n",
        "    count = 0\n",
        "    data = file.read()\n",
        "    words = data.split()\n",
        "    for word in words:\n",
        "        if word ==\"the\" or word ==\"The\":\n",
        "            count += 1\n",
        "    print(count)\n",
        "    file.close()\n",
        "\n",
        "count_words()"
      ]
    },
    {
      "cell_type": "code",
      "execution_count": null,
      "metadata": {
        "id": "52XGtxo-wPhN",
        "outputId": "f686264a-6623-4573-83cb-60eeb316c5e0"
      },
      "outputs": [
        {
          "name": "stdout",
          "output_type": "stream",
          "text": [
            "A boy is is a An is in the The sky is and are in the "
          ]
        }
      ],
      "source": [
        "# Write a function display_words() in python to read lines from a text file \"story.txt\", \n",
        "# and display those words, which are less than 4 characters.\n",
        "\n",
        "def display_words():\n",
        "    file = open(\"story.txt\",\"r\")\n",
        "    data = file.read()\n",
        "    words = data.split()\n",
        "    for word in words:\n",
        "        if len(word) < 4:\n",
        "            print(word, end=\" \")\n",
        "    file.close()\n",
        "\n",
        "display_words()"
      ]
    },
    {
      "cell_type": "code",
      "execution_count": null,
      "metadata": {
        "id": "dWQxzctUwPhO",
        "outputId": "7af4f92b-4acb-4709-c176-48df7df32d02"
      },
      "outputs": [
        {
          "name": "stdout",
          "output_type": "stream",
          "text": [
            "2\n"
          ]
        }
      ],
      "source": [
        "# Write a function in Python to count the words \"this\" and \"these\" present in a text file \"article.txt\". \n",
        "# [Note that the words \"this\" and \"these\" are complete words] \n",
        "\n",
        "def count_words():\n",
        "    file = open(\"article.txt\",\"r\")\n",
        "    count = 0\n",
        "    data = file.read()\n",
        "    words = data.split()\n",
        "    for word in words:\n",
        "        if word == 'this' or word =='these':\n",
        "            count+=1\n",
        "    print(count)\n",
        "    file.close()\n",
        "\n",
        "count_words()"
      ]
    },
    {
      "cell_type": "code",
      "execution_count": null,
      "metadata": {
        "id": "87llH4HVwPhQ",
        "outputId": "83d03edc-4fb1-4676-a68f-f0370ece667f"
      },
      "outputs": [
        {
          "name": "stdout",
          "output_type": "stream",
          "text": [
            "15\n"
          ]
        }
      ],
      "source": [
        "# Write a function in Python to count words in a text file those are ending with alphabet \"e\"\n",
        "\n",
        "def count_words():\n",
        "    file = open(\"article.txt\",\"r\")\n",
        "    count = 0\n",
        "    data = file.read()\n",
        "    words = data.split()\n",
        "    for word in words:\n",
        "        if word[-1] == 'e':\n",
        "            count+=1\n",
        "    print(count)\n",
        "    file.close()\n",
        "\n",
        "count_words()"
      ]
    },
    {
      "cell_type": "code",
      "execution_count": null,
      "metadata": {
        "id": "6yDpPM1PwPhR",
        "outputId": "606ce091-420a-49df-aa2d-f3a226c2f5f0"
      },
      "outputs": [
        {
          "name": "stdout",
          "output_type": "stream",
          "text": [
            "7\n"
          ]
        }
      ],
      "source": [
        "# Write a function in Python to count uppercase character in a text file.\n",
        "\n",
        "def count_letter():\n",
        "    file = open(\"article.txt\",\"r\")\n",
        "    data = file.read()\n",
        "    count = 0\n",
        "    for letter in data:\n",
        "        if letter.isupper():\n",
        "            count+=1\n",
        "    print(count)\n",
        "    file.close()\n",
        "\n",
        "count_letter()"
      ]
    },
    {
      "cell_type": "code",
      "execution_count": null,
      "metadata": {
        "id": "R5HUPVKtwPhS",
        "outputId": "190816eb-21f1-4265-e27d-9e58040e4241"
      },
      "outputs": [
        {
          "name": "stdout",
          "output_type": "stream",
          "text": [
            "T#H#E# #W#O#R#L#D# #I#S# #R#O#U#N#D#"
          ]
        }
      ],
      "source": [
        "# A text file named \"matter.txt\" contains some text, which needs to be displayed such that \n",
        "# every next character is separated by a symbol \"#\". \n",
        "# Write a function definition for hash_display() in Python that would display \n",
        "# the entire content of the file matter.txt in the desired format.\n",
        "\n",
        "# Example :\n",
        "# If the file matter.txt has the following content stored in it :\n",
        "# THE WORLD IS ROUND\n",
        "\n",
        "# The function hash_display() should display the following content :\n",
        "# T#H#E# #W#O#R#L#D# #I#S# #R#O#U#N#D#\n",
        "\n",
        "def count_hash():\n",
        "    file = open(\"matter.txt\",\"r\")\n",
        "    data = file.read()\n",
        "    for letter in data:\n",
        "        print(letter, end=\"#\")\n",
        "\n",
        "    file.close()\n",
        "\n",
        "count_hash()"
      ]
    },
    {
      "cell_type": "code",
      "execution_count": null,
      "metadata": {
        "id": "vBWuiVcIwPhT",
        "outputId": "d943e3ef-9c00-4545-bd86-a7bca791b3b4"
      },
      "outputs": [
        {
          "name": "stdout",
          "output_type": "stream",
          "text": [
            "If Aditi has stored the following content in the file WORDS.TXT:\n",
            "WELL, THIS IS A WORD BY ITSELF. YOU COULD STRETCH THIS TO BE A SENTENCE\n",
            "The function ITOI() should display the following content:\n",
            "WELL, THIS IS A WORD BY ITSELF. YOU COULD STRETCH THIS TO BE A SENTENCE"
          ]
        }
      ],
      "source": [
        "# Aditi has used a text editing software to type some text. After saving the article as WORDS.TXT, \n",
        "# she realised that she has wrongly typed alphabet J in place of alphabet I everywhere in the article.\n",
        "# Write a function definition for JTOI() in Python that would display the corrected version of entire content \n",
        "# of the file WORDS.TXT with all the alphabets \"J\" to be displayed as an alphabet \"I\" on screen.\n",
        "\n",
        "# Note: Assuming that WORD.TXT does not contain any J alphabet otherwise.\n",
        "\n",
        "# Example:\n",
        "# If Aditi has stored the following content in the file WORDS.TXT:\n",
        "# WELL, THJS JS A WORD BY JTSELF. YOU COULD STRETCH THJS TO BE A SENTENCE\n",
        "# The function JTOI() should display the following content:\n",
        "# WELL, THIS IS A WORD BY ITSELF. YOU COULD STRETCH THIS TO BE A SENTENCE\n",
        "\n",
        "def JTOI():\n",
        "    file = open(\"word.txt\",\"r\")\n",
        "    data = file.read()\n",
        "    for letter in data:\n",
        "        if letter == 'J':\n",
        "            print(\"I\",end=\"\")\n",
        "        else:\n",
        "            print(letter,end=\"\")\n",
        "\n",
        "    file.close()\n",
        "\n",
        "JTOI()"
      ]
    },
    {
      "cell_type": "code",
      "execution_count": null,
      "metadata": {
        "id": "lq0-pmlzwPhU",
        "outputId": "6ddf2e96-a1ac-4042-d2e9-75bcdae5325e"
      },
      "outputs": [
        {
          "name": "stdout",
          "output_type": "stream",
          "text": [
            "A or a: 4\n",
            "M or m: 2\n"
          ]
        }
      ],
      "source": [
        "# Write a function AMCount() in Python, which should read each character of a text file STORY.TXT, \n",
        "# should count and display the occurance of alphabets A and M (including small cases a and m too).\n",
        "# For Example:\n",
        "# If the file content is as follows:\n",
        "# Updated information\n",
        "# As simplified by official websites.\n",
        "# The EUCount() function should display the output as:\n",
        "# A or a:4\n",
        "# M or m :2\n",
        "\n",
        "def AMcount():\n",
        "    file = open('notes_2.txt','r')\n",
        "    data = file.read()\n",
        "    counta=0\n",
        "    countm=0\n",
        "    for letter in data:\n",
        "        if letter == 'A' or letter =='a':\n",
        "            counta += 1\n",
        "        elif letter == 'M' or letter =='m':\n",
        "            countm += 1\n",
        "\n",
        "    file.close()\n",
        "    print('A or a:',counta)\n",
        "    print('M or m:',countm)\n",
        "\n",
        "AMcount()"
      ]
    },
    {
      "cell_type": "code",
      "execution_count": null,
      "metadata": {
        "id": "uR41lFMiwPhV"
      },
      "outputs": [],
      "source": [
        "# A binary file \"Book.dat\" has structure [BookNo, Book_Name, Author, Price].\n",
        "# i. Write a user defined function createFile() to input data for a record and add to Book.dat.\n",
        "# ii. Write a function countRec(Author) in Python which accepts the Author name as parameter \n",
        "# and count and return number of books by the given Author are stored in the binary file \"Book.dat\"\n",
        "\n",
        "import pickle\n",
        "\n",
        "def createFile():\n",
        "    file = open(\"book.dat\",\"ab\")\n",
        "    BookNo = int(input(\"Enter book number: \"))\n",
        "    Book_Name = input(\"Enter book Name: \")\n",
        "    Author =input(\"Enter author: \")\n",
        "    Price = int(input(\"Enter price: \"))\n",
        "    record = [BookNo, Book_Name, Author, Price]\n",
        "    pickle.dump(record, file)\n",
        "    file.close()\n",
        "    \n",
        "def countRec(Author):\n",
        "    file = open(\"book.dat\",\"rb\")\n",
        "    count = 0\n",
        "    try:\n",
        "        while True:\n",
        "            record = pickle.load(file)\n",
        "            if record[2]==Author:\n",
        "                count+=1\n",
        "    except EOFError:\n",
        "        pass\n",
        "    return count\n",
        "    file.close()\n",
        "\n",
        "#To test working of functions\n",
        "def testProgram():\n",
        "    while True:\n",
        "        createFile()\n",
        "        choice = input(\"Add more record (y/n)? \")\n",
        "        if choice in 'Nn':\n",
        "            break\n",
        "    Author = input('Enter author name to search: ')\n",
        "    n = countRec(Author)\n",
        "    print(\"No of books are\",n)\n",
        "\n",
        "testProgram()"
      ]
    },
    {
      "cell_type": "code",
      "execution_count": null,
      "metadata": {
        "id": "z5Tk8OQFwPhW"
      },
      "outputs": [],
      "source": [
        "# A binary file \"STUDENT.DAT\" has structure (admission_number, Name, Percentage). \n",
        "# Write a function count_rec() in Python that would read contents of the file \"STUDENT.DAT\" \n",
        "# and display the details of those students whose percentage is above 75. \n",
        "# Also display number of students scoring above 75%\n",
        "\n",
        "def count_rec():\n",
        "    file = open(\"STUDENT.DAT\",\"rb\")\n",
        "    count = 0\n",
        "    try:\n",
        "        while True:\n",
        "            record = pickle.load(file)\n",
        "            if record[2] > 75:\n",
        "                print(record)\n",
        "                count+=1\n",
        "    except EOFError:\n",
        "        pass\n",
        "    print('No of students having more than 75% are', count)\n",
        "    file.close()"
      ]
    },
    {
      "cell_type": "code",
      "execution_count": null,
      "metadata": {
        "id": "in8BqINxwPhX"
      },
      "outputs": [],
      "source": [
        "# Given a binary file employee.dat, created using dictionary object having keys: (empcode, name, and salary)\n",
        "\n",
        "# Write a python function that add one more record at the end of file.\n",
        "# Write a python function that display all employee records whose salary is more that 30000\n",
        "\n",
        "import pickle\n",
        "\n",
        "def add_record():\n",
        "    file = open(\"employee.dat\",\"ab\")\n",
        "    emp = {}\n",
        "    emp['empcode'] = int(input(\"Enter employee code: \"))\n",
        "    emp['name'] = input(\"Enter employee Name: \")\n",
        "    emp['salary'] = int(input(\"Enter salary: \"))\n",
        "    pickle.dump(emp, file)\n",
        "    file.close()\n",
        "    \n",
        "def search():\n",
        "    file = open(\"employee.dat\",\"rb\")\n",
        "    try:\n",
        "        while True:\n",
        "            emp = pickle.load(file)\n",
        "            if emp['salary']>30000:\n",
        "                print(emp)\n",
        "    except EOFError:\n",
        "        pass\n",
        "    file.close()\n",
        "\n",
        "#To test working of functions\n",
        "def testProgram():\n",
        "    while True:\n",
        "        add_record()\n",
        "        choice = input(\"Add more record (y/n)? \")\n",
        "        if choice in 'Nn':\n",
        "            break\n",
        "    print('Employee details having salary more than 30000')\n",
        "    search()\n",
        "\n",
        "testProgram()"
      ]
    },
    {
      "cell_type": "code",
      "execution_count": null,
      "metadata": {
        "id": "KPH4hiFMwPhX"
      },
      "outputs": [],
      "source": [
        "# Write a function to search and display details of student whose rollno is '1005' \n",
        "# from the binary file student.dat having structure [rollno, name, class and fees].\n",
        "\n",
        "def search():\n",
        "    file = open(\"student.dat\",\"rb\")\n",
        "    try:\n",
        "        while True:\n",
        "            record = pickle.load(file)\n",
        "            if record[0] == 1005:\n",
        "                print(record)\n",
        "    except EOFError:\n",
        "        pass\n",
        "    file.close()"
      ]
    },
    {
      "cell_type": "code",
      "execution_count": null,
      "metadata": {
        "id": "ytqDYlEbwPhY"
      },
      "outputs": [],
      "source": [
        "# A binary file school.dat has structure(rollno, name, class, fees)\n",
        "\n",
        "# Write a definition for function total_fees( ) that reads each object of file and calculate \n",
        "# the total fees of students and display the same.\n",
        "\n",
        "def total_fees():\n",
        "    file = open(\"school.dat\",\"rb\")\n",
        "    try:\n",
        "        total = 0\n",
        "        while True:\n",
        "            record = pickle.load(file)\n",
        "            total += record[3]:\n",
        "    except EOFError:\n",
        "        pass\n",
        "    print('Total Fees: ',total)\n",
        "    file.close()"
      ]
    },
    {
      "cell_type": "code",
      "execution_count": null,
      "metadata": {
        "id": "9z0GlorMwPhY"
      },
      "outputs": [],
      "source": [
        "# A binary file players.dat, containing records of following list format: [code, name, country and total runs]\n",
        "\n",
        "# 1. Write a python function that display all records where player name starts from 'A'\n",
        "# 2. Write a python function that accept country as an argument and count and display \n",
        "#     the number of players of that country.\n",
        "# 3. Write a python function that add one record at the end of file.\n",
        "\n",
        "import pickle\n",
        "\n",
        "def createFile():\n",
        "    file = open(\"players.dat\",\"ab\")\n",
        "    Code = int(input(\"Enter player code: \"))\n",
        "    Name = input(\"Enter player Name: \")\n",
        "    Country =input(\"Enter player country: \")\n",
        "    Total_Runs = int(input(\"Enter total runs of player: \"))\n",
        "    record = [Code, Name, Country, Total_Runs]\n",
        "    pickle.dump(record, file)\n",
        "    file.close()\n",
        "\n",
        "def search():\n",
        "    file = open(\"players.dat\",\"rb\")\n",
        "    try:\n",
        "        while True:\n",
        "            record = pickle.load(file)\n",
        "            if record[1][0] == 'A':\n",
        "                print(record)\n",
        "    except EOFError:\n",
        "        pass\n",
        "    file.close()\n",
        "\n",
        "def countRec(Country):\n",
        "    file = open(\"players.dat\",\"rb\")\n",
        "    count = 0\n",
        "    try:\n",
        "        while True:\n",
        "            record = pickle.load(file)\n",
        "            if record[2]==Country:\n",
        "                count+=1\n",
        "    except EOFError:\n",
        "        pass\n",
        "    return count\n",
        "    file.close()\n",
        "\n",
        "def testProgram():\n",
        "    while True:\n",
        "        createFile()\n",
        "        choice = input(\"Add more record (y/n)? \")\n",
        "        if choice in 'Nn':\n",
        "            break\n",
        "    print(\"the number of players whose name starts with A:\",search())\n",
        "    Country = input('Enter country name to search: ')\n",
        "    n = countRec(Country)\n",
        "    print(\"No of players are\",n)\n",
        "\n",
        "testProgram()"
      ]
    },
    {
      "cell_type": "code",
      "execution_count": null,
      "metadata": {
        "ExecuteTime": {
          "end_time": "2021-05-29T10:46:59.140338Z",
          "start_time": "2021-05-29T10:46:59.135100Z"
        },
        "id": "JgamisabwPhZ"
      },
      "outputs": [],
      "source": [
        "# Given a binary file game.dat, containing records of following list format: [game_name, participants]\n",
        "\n",
        "# Write a function in Python that would read contents from the file game.dat and \n",
        "# creates a file named basket.dat copying only those records from game.dat where the game name is \"Basket Ball\"\n",
        "\n",
        "def countRec(country):\n",
        "    infile = open(\"game.dat\",\"rb\")\n",
        "    outfile = open(\"basket.dat\",\"wb\")\n",
        "\n",
        "    try:\n",
        "        while True:\n",
        "            record = pickle.load(infile)\n",
        "            if record[0] == \"Basket Ball\":\n",
        "                pickle.dump(record, outfile)\n",
        "    except EOFError:\n",
        "        pass\n",
        "    infile.close()\n",
        "    outfile.close()"
      ]
    }
  ],
  "metadata": {
    "colab": {
      "collapsed_sections": [],
      "provenance": []
    },
    "kernelspec": {
      "display_name": "pyspark-env",
      "language": "python",
      "name": "python3"
    },
    "language_info": {
      "codemirror_mode": {
        "name": "ipython",
        "version": 3
      },
      "file_extension": ".py",
      "mimetype": "text/x-python",
      "name": "python",
      "nbconvert_exporter": "python",
      "pygments_lexer": "ipython3",
      "version": "3.12.3"
    }
  },
  "nbformat": 4,
  "nbformat_minor": 0
}
